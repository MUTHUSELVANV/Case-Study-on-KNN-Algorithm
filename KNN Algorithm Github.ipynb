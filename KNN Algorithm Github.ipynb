{
 "cells": [
  {
   "cell_type": "code",
   "execution_count": 1,
   "metadata": {},
   "outputs": [],
   "source": [
    "import matplotlib.pyplot as plt\n",
    "import pandas as pd\n",
    "import numpy as np\n",
    "from sklearn.neighbors import KNeighborsClassifier\n",
    "#from sklearn import datasets, neighbors\n",
    "from sklearn.linear_model import LogisticRegression\n",
    "from mlxtend.plotting import plot_decision_regions # used to plot the decision boundary of ml algorithms\n",
    "from sklearn.model_selection import cross_val_score # import all the functions reqd for cross validation\n",
    "from sklearn.model_selection import train_test_split\n",
    "from sklearn.preprocessing import StandardScaler"
   ]
  },
  {
   "cell_type": "markdown",
   "metadata": {},
   "source": [
    "# Function to get Train Accuracy, Cross Validation Accuracy & KNN plot for different values of K"
   ]
  },
  {
   "cell_type": "markdown",
   "metadata": {},
   "source": [
    "Comparing decision boundary for different value of k"
   ]
  },
  {
   "cell_type": "markdown",
   "metadata": {},
   "source": [
    "fn = knn_comparison(data, k)"
   ]
  },
  {
   "cell_type": "code",
   "execution_count": 56,
   "metadata": {},
   "outputs": [],
   "source": [
    "#Input :  k and data\n",
    "#Output : The graph of the decision boundary\n",
    "def knn_comparison(data, k): #k and the data are input to the function\n",
    "    x = data[['X','Y']].values # independent features\n",
    "    y = data['class'].astype(int).values # y -> target/true labels \n",
    "    x_train, x_test, y_train, y_test = train_test_split(x,y,test_size = 0.3, random_state=7)\n",
    "\n",
    "    from sklearn.preprocessing import StandardScaler\n",
    "    scaler = StandardScaler()\n",
    "    x_train = scaler.fit_transform(x_train)\n",
    "    x_test = scaler.transform(x_test)\n",
    "\n",
    "    knn = KNeighborsClassifier(n_neighbors=k) #it will initialise the model with @neighbours as k \n",
    "    knn.fit(x_train, y_train) # train the model\n",
    "    print(\"K : \",k)\n",
    "    print(\"Train Accuracy : \", knn.score(x_train,y_train)) # test the model and it computes the accuracy (train data accuracy)\n",
    "    print(\"Val Accuracy : \", np.mean(cross_val_score(knn, x_train, y_train, cv=10)))\n",
    "    \n",
    "    # Plotting decision region\n",
    "    plot_decision_regions(x_train, y_train, clf = knn, legend=2) # it plots the decision boundary\n",
    "    ##Adding axes annotations\n",
    "    plt.xlabel('X') #Names the x-axis\n",
    "    plt.ylabel('Y') #Names the y-axis\n",
    "    plt.title('Knn with K='+ str(k)) #Names the graph\n",
    "    plt.show() #Displays the graph "
   ]
  },
  {
   "cell_type": "markdown",
   "metadata": {},
   "source": [
    "# Function to get Train Accuracy, Val Accuracy & Logisitic Regression plot for different values of K without Scaling and splitting"
   ]
  },
  {
   "cell_type": "markdown",
   "metadata": {},
   "source": [
    "logistic(data, k = 0)"
   ]
  },
  {
   "cell_type": "code",
   "execution_count": 57,
   "metadata": {},
   "outputs": [],
   "source": [
    "#Same as above, but with logreg\n",
    "def logistic(data, k = 0):\n",
    "    x = data[['X','Y']].values\n",
    "    y = data['class'].astype(int).values\n",
    "    clf = LogisticRegression()\n",
    "    clf.fit(x, y)\n",
    "    print(\"K : \",k)\n",
    "    print(\"Train Accuracy : \", clf.score(x,y)) # test the model and it computes the accuracy (train data accuracy)\n",
    "    print(\"Val Accuracy : \", np.mean(cross_val_score(clf, x, y, cv=5)))\n",
    "    # Plotting decision region\n",
    "    plot_decision_regions(x, y, clf=clf, legend=2)\n",
    "    # Adding axes annotations\n",
    "    plt.xlabel('X')\n",
    "    plt.ylabel('Y')\n",
    "    plt.title('Logistic Regression decision boundary')\n",
    "    plt.show()"
   ]
  },
  {
   "cell_type": "markdown",
   "metadata": {},
   "source": [
    "# KNN Algorithm"
   ]
  },
  {
   "cell_type": "markdown",
   "metadata": {},
   "source": [
    "# U Shaped Dataset"
   ]
  },
  {
   "cell_type": "code",
   "execution_count": 58,
   "metadata": {},
   "outputs": [
    {
     "data": {
      "text/html": [
       "<div>\n",
       "<style scoped>\n",
       "    .dataframe tbody tr th:only-of-type {\n",
       "        vertical-align: middle;\n",
       "    }\n",
       "\n",
       "    .dataframe tbody tr th {\n",
       "        vertical-align: top;\n",
       "    }\n",
       "\n",
       "    .dataframe thead th {\n",
       "        text-align: right;\n",
       "    }\n",
       "</style>\n",
       "<table border=\"1\" class=\"dataframe\">\n",
       "  <thead>\n",
       "    <tr style=\"text-align: right;\">\n",
       "      <th></th>\n",
       "      <th>X</th>\n",
       "      <th>Y</th>\n",
       "      <th>class</th>\n",
       "    </tr>\n",
       "  </thead>\n",
       "  <tbody>\n",
       "    <tr>\n",
       "      <th>0</th>\n",
       "      <td>0.0316</td>\n",
       "      <td>0.9870</td>\n",
       "      <td>0.0</td>\n",
       "    </tr>\n",
       "    <tr>\n",
       "      <th>1</th>\n",
       "      <td>2.1200</td>\n",
       "      <td>-0.0462</td>\n",
       "      <td>1.0</td>\n",
       "    </tr>\n",
       "    <tr>\n",
       "      <th>2</th>\n",
       "      <td>0.8820</td>\n",
       "      <td>-0.0758</td>\n",
       "      <td>0.0</td>\n",
       "    </tr>\n",
       "    <tr>\n",
       "      <th>3</th>\n",
       "      <td>-0.0551</td>\n",
       "      <td>-0.0373</td>\n",
       "      <td>1.0</td>\n",
       "    </tr>\n",
       "    <tr>\n",
       "      <th>4</th>\n",
       "      <td>0.8300</td>\n",
       "      <td>-0.5390</td>\n",
       "      <td>1.0</td>\n",
       "    </tr>\n",
       "    <tr>\n",
       "      <th>...</th>\n",
       "      <td>...</td>\n",
       "      <td>...</td>\n",
       "      <td>...</td>\n",
       "    </tr>\n",
       "    <tr>\n",
       "      <th>95</th>\n",
       "      <td>1.7000</td>\n",
       "      <td>0.5880</td>\n",
       "      <td>1.0</td>\n",
       "    </tr>\n",
       "    <tr>\n",
       "      <th>96</th>\n",
       "      <td>0.2190</td>\n",
       "      <td>-0.6530</td>\n",
       "      <td>1.0</td>\n",
       "    </tr>\n",
       "    <tr>\n",
       "      <th>97</th>\n",
       "      <td>0.9530</td>\n",
       "      <td>-0.4200</td>\n",
       "      <td>1.0</td>\n",
       "    </tr>\n",
       "    <tr>\n",
       "      <th>98</th>\n",
       "      <td>-1.3200</td>\n",
       "      <td>0.4230</td>\n",
       "      <td>0.0</td>\n",
       "    </tr>\n",
       "    <tr>\n",
       "      <th>99</th>\n",
       "      <td>-1.3000</td>\n",
       "      <td>0.1840</td>\n",
       "      <td>0.0</td>\n",
       "    </tr>\n",
       "  </tbody>\n",
       "</table>\n",
       "<p>100 rows × 3 columns</p>\n",
       "</div>"
      ],
      "text/plain": [
       "         X       Y  class\n",
       "0   0.0316  0.9870    0.0\n",
       "1   2.1200 -0.0462    1.0\n",
       "2   0.8820 -0.0758    0.0\n",
       "3  -0.0551 -0.0373    1.0\n",
       "4   0.8300 -0.5390    1.0\n",
       "..     ...     ...    ...\n",
       "95  1.7000  0.5880    1.0\n",
       "96  0.2190 -0.6530    1.0\n",
       "97  0.9530 -0.4200    1.0\n",
       "98 -1.3200  0.4230    0.0\n",
       "99 -1.3000  0.1840    0.0\n",
       "\n",
       "[100 rows x 3 columns]"
      ]
     },
     "execution_count": 58,
     "metadata": {},
     "output_type": "execute_result"
    }
   ],
   "source": [
    "data1 = pd.read_csv('ushape.csv')\n",
    "data1"
   ]
  },
  {
   "cell_type": "code",
   "execution_count": 59,
   "metadata": {},
   "outputs": [
    {
     "data": {
      "image/png": "[encoded data removed]",
      "text/plain": [
       "<Figure size 640x480 with 1 Axes>"
      ]
     },
     "metadata": {},
     "output_type": "display_data"
    }
   ],
   "source": [
    "classes = data1['class'].unique()\n",
    "\n",
    "for c in classes:\n",
    "    class_data = data1[data1['class'] == c]\n",
    "    plt.scatter(class_data['X'], class_data['Y'], label='Class ' + str(c))\n",
    "\n",
    "plt.legend(title='Classes')\n",
    "plt.xlabel('x1')\n",
    "plt.ylabel('x2')\n",
    "plt.show()"
   ]
  },
  {
   "cell_type": "markdown",
   "metadata": {},
   "source": [
    "Here, the dataset is such that we cant apply logistic regression since it does not have a linear decision boundary"
   ]
  },
  {
   "cell_type": "code",
   "execution_count": 60,
   "metadata": {},
   "outputs": [],
   "source": [
    "# Separating features & target and splitting them as training & testing dataset\n",
    "X = data1[['X','Y']].values\n",
    "y = data1['class'].values\n",
    "x_train, x_test, y_train, y_test = train_test_split(X,y,test_size = 0.3, random_state=7)\n",
    "\n",
    "# Scaling train and test dataset\n",
    "scaler = StandardScaler()\n",
    "x_train = scaler.fit_transform(x_train)\n",
    "x_test = scaler.transform(x_test)"
   ]
  },
  {
   "cell_type": "code",
   "execution_count": 66,
   "metadata": {},
   "outputs": [],
   "source": [
    "# Calculating train and cv score on different K values\n",
    "k=[]\n",
    "train_score=[]\n",
    "cv_score=[]\n",
    "for i in [1,2,3,4,5,6,7,8,9,10,20,50]:\n",
    "    knn = KNeighborsClassifier(i) #initialising the model\n",
    "    knn.fit(x_train,y_train) # training the model\n",
    "    k.append(i)\n",
    "    train_score.append(knn.score(x_train,y_train))\n",
    "    cv_score.append(np.mean(cross_val_score(knn, x_train, y_train, cv=10)))\n",
    "    #print(\"K value  : \" , i, \" train score : \", knn.score(x_train,y_train) , \" cv score : \", np.mean(cross_val_score(knn, x_train, y_train, cv=10))) #predicting using the model\n",
    "score = {'K':k,'Train_Score':train_score,'CV_Score':cv_score}\n",
    "score = pd.DataFrame(score)"
   ]
  },
  {
   "cell_type": "markdown",
   "metadata": {},
   "source": [
    "From the table displayed below, we can infer the best value of K for KNN algorithm.The best K value avoids both underfitting and overfitting."
   ]
  },
  {
   "cell_type": "code",
   "execution_count": 67,
   "metadata": {},
   "outputs": [
    {
     "data": {
      "text/html": [
       "<div>\n",
       "<style scoped>\n",
       "    .dataframe tbody tr th:only-of-type {\n",
       "        vertical-align: middle;\n",
       "    }\n",
       "\n",
       "    .dataframe tbody tr th {\n",
       "        vertical-align: top;\n",
       "    }\n",
       "\n",
       "    .dataframe thead th {\n",
       "        text-align: right;\n",
       "    }\n",
       "</style>\n",
       "<table border=\"1\" class=\"dataframe\">\n",
       "  <thead>\n",
       "    <tr style=\"text-align: right;\">\n",
       "      <th></th>\n",
       "      <th>K</th>\n",
       "      <th>Train_Score</th>\n",
       "      <th>CV_Score</th>\n",
       "    </tr>\n",
       "  </thead>\n",
       "  <tbody>\n",
       "    <tr>\n",
       "      <th>0</th>\n",
       "      <td>1</td>\n",
       "      <td>1.000000</td>\n",
       "      <td>0.942857</td>\n",
       "    </tr>\n",
       "    <tr>\n",
       "      <th>1</th>\n",
       "      <td>2</td>\n",
       "      <td>0.971429</td>\n",
       "      <td>0.942857</td>\n",
       "    </tr>\n",
       "    <tr>\n",
       "      <th>2</th>\n",
       "      <td>3</td>\n",
       "      <td>0.985714</td>\n",
       "      <td>0.928571</td>\n",
       "    </tr>\n",
       "    <tr>\n",
       "      <th>3</th>\n",
       "      <td>4</td>\n",
       "      <td>0.971429</td>\n",
       "      <td>0.957143</td>\n",
       "    </tr>\n",
       "    <tr>\n",
       "      <th>4</th>\n",
       "      <td>5</td>\n",
       "      <td>0.985714</td>\n",
       "      <td>0.971429</td>\n",
       "    </tr>\n",
       "    <tr>\n",
       "      <th>5</th>\n",
       "      <td>6</td>\n",
       "      <td>0.985714</td>\n",
       "      <td>0.928571</td>\n",
       "    </tr>\n",
       "    <tr>\n",
       "      <th>6</th>\n",
       "      <td>7</td>\n",
       "      <td>0.985714</td>\n",
       "      <td>0.942857</td>\n",
       "    </tr>\n",
       "    <tr>\n",
       "      <th>7</th>\n",
       "      <td>8</td>\n",
       "      <td>0.942857</td>\n",
       "      <td>0.928571</td>\n",
       "    </tr>\n",
       "    <tr>\n",
       "      <th>8</th>\n",
       "      <td>9</td>\n",
       "      <td>0.942857</td>\n",
       "      <td>0.928571</td>\n",
       "    </tr>\n",
       "    <tr>\n",
       "      <th>9</th>\n",
       "      <td>10</td>\n",
       "      <td>0.942857</td>\n",
       "      <td>0.914286</td>\n",
       "    </tr>\n",
       "    <tr>\n",
       "      <th>10</th>\n",
       "      <td>20</td>\n",
       "      <td>0.914286</td>\n",
       "      <td>0.900000</td>\n",
       "    </tr>\n",
       "    <tr>\n",
       "      <th>11</th>\n",
       "      <td>50</td>\n",
       "      <td>0.842857</td>\n",
       "      <td>0.800000</td>\n",
       "    </tr>\n",
       "  </tbody>\n",
       "</table>\n",
       "</div>"
      ],
      "text/plain": [
       "     K  Train_Score  CV_Score\n",
       "0    1     1.000000  0.942857\n",
       "1    2     0.971429  0.942857\n",
       "2    3     0.985714  0.928571\n",
       "3    4     0.971429  0.957143\n",
       "4    5     0.985714  0.971429\n",
       "5    6     0.985714  0.928571\n",
       "6    7     0.985714  0.942857\n",
       "7    8     0.942857  0.928571\n",
       "8    9     0.942857  0.928571\n",
       "9   10     0.942857  0.914286\n",
       "10  20     0.914286  0.900000\n",
       "11  50     0.842857  0.800000"
      ]
     },
     "execution_count": 67,
     "metadata": {},
     "output_type": "execute_result"
    }
   ],
   "source": [
    "score"
   ]
  },
  {
   "cell_type": "markdown",
   "metadata": {},
   "source": [
    "**k = 5** is the best value of k. Found using Hyper-Parameter Tuning"
   ]
  },
  {
   "cell_type": "markdown",
   "metadata": {},
   "source": [
    "### From the below plots, we are comparing how the decision boundary changes as the k value increments"
   ]
  },
  {
   "cell_type": "code",
   "execution_count": 9,
   "metadata": {},
   "outputs": [],
   "source": [
    "for i in [1,2,3,4,5,6,7,8,9]: #hit n trial\n",
    "    knn_comparison(data1,i)"
   ]
  },
  {
   "cell_type": "markdown",
   "metadata": {},
   "source": [
    "Decision boundary tends to overfit when k is less. As K increments, decision boundary keeps more generalizing till it reaches an optimum point at which the model works best. If we further increment K, it will lead to underfit. "
   ]
  },
  {
   "cell_type": "code",
   "execution_count": 10,
   "metadata": {},
   "outputs": [],
   "source": [
    "# Calculating train and cv score on different K values\n",
    "k=[]\n",
    "test_score=[]\n",
    "for i in [1,2,3,4,5,6,7,8,9,10,20,50]:\n",
    "    knn = KNeighborsClassifier(i) #initialising the model\n",
    "    knn.fit(x_train,y_train) # training the model\n",
    "    k.append(i)\n",
    "    test_score.append(knn.score(x_test,y_test))\n",
    "    #print(\"K value  : \" , i, \" train score : \", knn.score(x_train,y_train) , \" cv score : \", np.mean(cross_val_score(knn, x_train, y_train, cv=10))) #predicting using the model\n",
    "score = {'K':k,'Test_Score':test_score}\n",
    "score = pd.DataFrame(score)"
   ]
  },
  {
   "cell_type": "code",
   "execution_count": 11,
   "metadata": {},
   "outputs": [
    {
     "data": {
      "text/html": [
       "<div>\n",
       "<style scoped>\n",
       "    .dataframe tbody tr th:only-of-type {\n",
       "        vertical-align: middle;\n",
       "    }\n",
       "\n",
       "    .dataframe tbody tr th {\n",
       "        vertical-align: top;\n",
       "    }\n",
       "\n",
       "    .dataframe thead th {\n",
       "        text-align: right;\n",
       "    }\n",
       "</style>\n",
       "<table border=\"1\" class=\"dataframe\">\n",
       "  <thead>\n",
       "    <tr style=\"text-align: right;\">\n",
       "      <th></th>\n",
       "      <th>K</th>\n",
       "      <th>Test_Score</th>\n",
       "    </tr>\n",
       "  </thead>\n",
       "  <tbody>\n",
       "    <tr>\n",
       "      <th>0</th>\n",
       "      <td>1</td>\n",
       "      <td>0.900000</td>\n",
       "    </tr>\n",
       "    <tr>\n",
       "      <th>1</th>\n",
       "      <td>2</td>\n",
       "      <td>0.866667</td>\n",
       "    </tr>\n",
       "    <tr>\n",
       "      <th>2</th>\n",
       "      <td>3</td>\n",
       "      <td>0.900000</td>\n",
       "    </tr>\n",
       "    <tr>\n",
       "      <th>3</th>\n",
       "      <td>4</td>\n",
       "      <td>0.866667</td>\n",
       "    </tr>\n",
       "    <tr>\n",
       "      <th>4</th>\n",
       "      <td>5</td>\n",
       "      <td>0.900000</td>\n",
       "    </tr>\n",
       "    <tr>\n",
       "      <th>5</th>\n",
       "      <td>6</td>\n",
       "      <td>0.866667</td>\n",
       "    </tr>\n",
       "    <tr>\n",
       "      <th>6</th>\n",
       "      <td>7</td>\n",
       "      <td>0.900000</td>\n",
       "    </tr>\n",
       "    <tr>\n",
       "      <th>7</th>\n",
       "      <td>8</td>\n",
       "      <td>0.900000</td>\n",
       "    </tr>\n",
       "    <tr>\n",
       "      <th>8</th>\n",
       "      <td>9</td>\n",
       "      <td>0.900000</td>\n",
       "    </tr>\n",
       "    <tr>\n",
       "      <th>9</th>\n",
       "      <td>10</td>\n",
       "      <td>0.900000</td>\n",
       "    </tr>\n",
       "    <tr>\n",
       "      <th>10</th>\n",
       "      <td>20</td>\n",
       "      <td>0.900000</td>\n",
       "    </tr>\n",
       "    <tr>\n",
       "      <th>11</th>\n",
       "      <td>50</td>\n",
       "      <td>0.700000</td>\n",
       "    </tr>\n",
       "  </tbody>\n",
       "</table>\n",
       "</div>"
      ],
      "text/plain": [
       "     K  Test_Score\n",
       "0    1    0.900000\n",
       "1    2    0.866667\n",
       "2    3    0.900000\n",
       "3    4    0.866667\n",
       "4    5    0.900000\n",
       "5    6    0.866667\n",
       "6    7    0.900000\n",
       "7    8    0.900000\n",
       "8    9    0.900000\n",
       "9   10    0.900000\n",
       "10  20    0.900000\n",
       "11  50    0.700000"
      ]
     },
     "execution_count": 11,
     "metadata": {},
     "output_type": "execute_result"
    }
   ],
   "source": [
    "score"
   ]
  },
  {
   "cell_type": "markdown",
   "metadata": {},
   "source": [
    "From the Test Score table, it is evident that we have selected the best value of K correctly since it gives the highest test score"
   ]
  },
  {
   "cell_type": "markdown",
   "metadata": {},
   "source": [
    "Optimum Model Accuracy = 90% ;  \n",
    "Best K value = 5"
   ]
  },
  {
   "cell_type": "markdown",
   "metadata": {},
   "source": [
    "### Let's try predicting class with random sample input"
   ]
  },
  {
   "cell_type": "code",
   "execution_count": 68,
   "metadata": {},
   "outputs": [],
   "source": [
    "dat = pd.read_csv('ushape.csv')\n",
    "X = dat[['X','Y']].values\n",
    "y = dat['class'].values\n",
    "x_train, x_test, y_train, y_test = train_test_split(X,y,test_size = 0.3, random_state=7)\n",
    "\n",
    "# Scaling train and test dataset\n",
    "scaler = StandardScaler()\n",
    "x_train = scaler.fit_transform(x_train)\n",
    "x_test = scaler.transform(x_test)"
   ]
  },
  {
   "cell_type": "code",
   "execution_count": 69,
   "metadata": {
    "scrolled": true
   },
   "outputs": [
    {
     "data": {
      "image/png": "[encoded data removed]",
      "text/plain": [
       "<Figure size 640x480 with 1 Axes>"
      ]
     },
     "metadata": {},
     "output_type": "display_data"
    }
   ],
   "source": [
    "classes = dat['class'].unique()\n",
    "\n",
    "for c in classes:\n",
    "    class_data = dat[dat['class'] == c]\n",
    "    plt.scatter(class_data['X'], class_data['Y'], label= str(c))\n",
    "\n",
    "plt.legend(title='Classes')\n",
    "plt.xlabel('x1')\n",
    "plt.ylabel('x2')\n",
    "plt.show()"
   ]
  },
  {
   "cell_type": "code",
   "execution_count": 70,
   "metadata": {},
   "outputs": [
    {
     "name": "stdout",
     "output_type": "stream",
     "text": [
      "PREDICTING KNN SCORE OF X1,X2(0.5,1): [0.]\n"
     ]
    }
   ],
   "source": [
    "knn = KNeighborsClassifier(5)\n",
    "knn.fit(x_train,y_train)\n",
    "print('PREDICTING KNN SCORE OF X1,X2(0.5,1):', knn.predict(scaler.transform([[0.5,1]])))"
   ]
  },
  {
   "cell_type": "markdown",
   "metadata": {},
   "source": [
    "We could compare our result with the plot above"
   ]
  },
  {
   "cell_type": "markdown",
   "metadata": {},
   "source": [
    "### Comparing CV scores with n fold cross validation where n=5,10"
   ]
  },
  {
   "cell_type": "code",
   "execution_count": 71,
   "metadata": {},
   "outputs": [],
   "source": [
    "# Calculating train and cv score on different K values\n",
    "k=[]\n",
    "train_score=[]\n",
    "cv_score_5=[]\n",
    "cv_score_10=[]\n",
    "for i in [1,2,3,4,5,6,7,8,9,10,20,50]:\n",
    "    knn = KNeighborsClassifier(i) #initialising the model\n",
    "    knn.fit(x_train,y_train) # training the model\n",
    "    k.append(i)\n",
    "    train_score.append(knn.score(x_train,y_train))\n",
    "    cv_score_5.append(np.mean(cross_val_score(knn, x_train, y_train, cv=5)))\n",
    "    cv_score_10.append(np.mean(cross_val_score(knn, x_train, y_train, cv=10)))\n",
    "    #print(\"K value  : \" , i, \" train score : \", knn.score(x_train,y_train) , \" cv score : \", np.mean(cross_val_score(knn, x_train, y_train, cv=10))) #predicting using the model\n",
    "score = {'K':k,'Train_Score':train_score,'CV_Score (n=5)':cv_score_5,'CV_Score (n=10)':cv_score_10}\n",
    "score = pd.DataFrame(score)"
   ]
  },
  {
   "cell_type": "code",
   "execution_count": 72,
   "metadata": {},
   "outputs": [
    {
     "data": {
      "text/html": [
       "<div>\n",
       "<style scoped>\n",
       "    .dataframe tbody tr th:only-of-type {\n",
       "        vertical-align: middle;\n",
       "    }\n",
       "\n",
       "    .dataframe tbody tr th {\n",
       "        vertical-align: top;\n",
       "    }\n",
       "\n",
       "    .dataframe thead th {\n",
       "        text-align: right;\n",
       "    }\n",
       "</style>\n",
       "<table border=\"1\" class=\"dataframe\">\n",
       "  <thead>\n",
       "    <tr style=\"text-align: right;\">\n",
       "      <th></th>\n",
       "      <th>K</th>\n",
       "      <th>Train_Score</th>\n",
       "      <th>CV_Score (n=5)</th>\n",
       "      <th>CV_Score (n=10)</th>\n",
       "    </tr>\n",
       "  </thead>\n",
       "  <tbody>\n",
       "    <tr>\n",
       "      <th>0</th>\n",
       "      <td>1</td>\n",
       "      <td>1.000000</td>\n",
       "      <td>0.928571</td>\n",
       "      <td>0.942857</td>\n",
       "    </tr>\n",
       "    <tr>\n",
       "      <th>1</th>\n",
       "      <td>2</td>\n",
       "      <td>0.971429</td>\n",
       "      <td>0.942857</td>\n",
       "      <td>0.942857</td>\n",
       "    </tr>\n",
       "    <tr>\n",
       "      <th>2</th>\n",
       "      <td>3</td>\n",
       "      <td>0.985714</td>\n",
       "      <td>0.928571</td>\n",
       "      <td>0.928571</td>\n",
       "    </tr>\n",
       "    <tr>\n",
       "      <th>3</th>\n",
       "      <td>4</td>\n",
       "      <td>0.971429</td>\n",
       "      <td>0.942857</td>\n",
       "      <td>0.957143</td>\n",
       "    </tr>\n",
       "    <tr>\n",
       "      <th>4</th>\n",
       "      <td>5</td>\n",
       "      <td>0.985714</td>\n",
       "      <td>0.942857</td>\n",
       "      <td>0.971429</td>\n",
       "    </tr>\n",
       "    <tr>\n",
       "      <th>5</th>\n",
       "      <td>6</td>\n",
       "      <td>0.985714</td>\n",
       "      <td>0.928571</td>\n",
       "      <td>0.928571</td>\n",
       "    </tr>\n",
       "    <tr>\n",
       "      <th>6</th>\n",
       "      <td>7</td>\n",
       "      <td>0.985714</td>\n",
       "      <td>0.942857</td>\n",
       "      <td>0.942857</td>\n",
       "    </tr>\n",
       "    <tr>\n",
       "      <th>7</th>\n",
       "      <td>8</td>\n",
       "      <td>0.942857</td>\n",
       "      <td>0.928571</td>\n",
       "      <td>0.928571</td>\n",
       "    </tr>\n",
       "    <tr>\n",
       "      <th>8</th>\n",
       "      <td>9</td>\n",
       "      <td>0.942857</td>\n",
       "      <td>0.928571</td>\n",
       "      <td>0.928571</td>\n",
       "    </tr>\n",
       "    <tr>\n",
       "      <th>9</th>\n",
       "      <td>10</td>\n",
       "      <td>0.942857</td>\n",
       "      <td>0.928571</td>\n",
       "      <td>0.914286</td>\n",
       "    </tr>\n",
       "    <tr>\n",
       "      <th>10</th>\n",
       "      <td>20</td>\n",
       "      <td>0.914286</td>\n",
       "      <td>0.900000</td>\n",
       "      <td>0.900000</td>\n",
       "    </tr>\n",
       "    <tr>\n",
       "      <th>11</th>\n",
       "      <td>50</td>\n",
       "      <td>0.842857</td>\n",
       "      <td>0.828571</td>\n",
       "      <td>0.800000</td>\n",
       "    </tr>\n",
       "  </tbody>\n",
       "</table>\n",
       "</div>"
      ],
      "text/plain": [
       "     K  Train_Score  CV_Score (n=5)  CV_Score (n=10)\n",
       "0    1     1.000000        0.928571         0.942857\n",
       "1    2     0.971429        0.942857         0.942857\n",
       "2    3     0.985714        0.928571         0.928571\n",
       "3    4     0.971429        0.942857         0.957143\n",
       "4    5     0.985714        0.942857         0.971429\n",
       "5    6     0.985714        0.928571         0.928571\n",
       "6    7     0.985714        0.942857         0.942857\n",
       "7    8     0.942857        0.928571         0.928571\n",
       "8    9     0.942857        0.928571         0.928571\n",
       "9   10     0.942857        0.928571         0.914286\n",
       "10  20     0.914286        0.900000         0.900000\n",
       "11  50     0.842857        0.828571         0.800000"
      ]
     },
     "execution_count": 72,
     "metadata": {},
     "output_type": "execute_result"
    }
   ],
   "source": [
    "score"
   ]
  },
  {
   "cell_type": "markdown",
   "metadata": {},
   "source": [
    "# Concentric Circles Dataset"
   ]
  },
  {
   "cell_type": "code",
   "execution_count": 75,
   "metadata": {},
   "outputs": [
    {
     "data": {
      "text/html": [
       "<div>\n",
       "<style scoped>\n",
       "    .dataframe tbody tr th:only-of-type {\n",
       "        vertical-align: middle;\n",
       "    }\n",
       "\n",
       "    .dataframe tbody tr th {\n",
       "        vertical-align: top;\n",
       "    }\n",
       "\n",
       "    .dataframe thead th {\n",
       "        text-align: right;\n",
       "    }\n",
       "</style>\n",
       "<table border=\"1\" class=\"dataframe\">\n",
       "  <thead>\n",
       "    <tr style=\"text-align: right;\">\n",
       "      <th></th>\n",
       "      <th>X</th>\n",
       "      <th>Y</th>\n",
       "      <th>class</th>\n",
       "    </tr>\n",
       "  </thead>\n",
       "  <tbody>\n",
       "    <tr>\n",
       "      <th>0</th>\n",
       "      <td>0.700</td>\n",
       "      <td>-0.247</td>\n",
       "      <td>0.0</td>\n",
       "    </tr>\n",
       "    <tr>\n",
       "      <th>1</th>\n",
       "      <td>-3.950</td>\n",
       "      <td>2.740</td>\n",
       "      <td>1.0</td>\n",
       "    </tr>\n",
       "    <tr>\n",
       "      <th>2</th>\n",
       "      <td>0.150</td>\n",
       "      <td>-2.160</td>\n",
       "      <td>1.0</td>\n",
       "    </tr>\n",
       "    <tr>\n",
       "      <th>3</th>\n",
       "      <td>-1.670</td>\n",
       "      <td>-0.942</td>\n",
       "      <td>1.0</td>\n",
       "    </tr>\n",
       "    <tr>\n",
       "      <th>4</th>\n",
       "      <td>2.560</td>\n",
       "      <td>-1.850</td>\n",
       "      <td>1.0</td>\n",
       "    </tr>\n",
       "    <tr>\n",
       "      <th>...</th>\n",
       "      <td>...</td>\n",
       "      <td>...</td>\n",
       "      <td>...</td>\n",
       "    </tr>\n",
       "    <tr>\n",
       "      <th>495</th>\n",
       "      <td>2.180</td>\n",
       "      <td>2.980</td>\n",
       "      <td>1.0</td>\n",
       "    </tr>\n",
       "    <tr>\n",
       "      <th>496</th>\n",
       "      <td>1.780</td>\n",
       "      <td>2.870</td>\n",
       "      <td>1.0</td>\n",
       "    </tr>\n",
       "    <tr>\n",
       "      <th>497</th>\n",
       "      <td>0.894</td>\n",
       "      <td>3.070</td>\n",
       "      <td>0.0</td>\n",
       "    </tr>\n",
       "    <tr>\n",
       "      <th>498</th>\n",
       "      <td>0.849</td>\n",
       "      <td>3.880</td>\n",
       "      <td>0.0</td>\n",
       "    </tr>\n",
       "    <tr>\n",
       "      <th>499</th>\n",
       "      <td>5.220</td>\n",
       "      <td>1.400</td>\n",
       "      <td>0.0</td>\n",
       "    </tr>\n",
       "  </tbody>\n",
       "</table>\n",
       "<p>500 rows × 3 columns</p>\n",
       "</div>"
      ],
      "text/plain": [
       "         X      Y  class\n",
       "0    0.700 -0.247    0.0\n",
       "1   -3.950  2.740    1.0\n",
       "2    0.150 -2.160    1.0\n",
       "3   -1.670 -0.942    1.0\n",
       "4    2.560 -1.850    1.0\n",
       "..     ...    ...    ...\n",
       "495  2.180  2.980    1.0\n",
       "496  1.780  2.870    1.0\n",
       "497  0.894  3.070    0.0\n",
       "498  0.849  3.880    0.0\n",
       "499  5.220  1.400    0.0\n",
       "\n",
       "[500 rows x 3 columns]"
      ]
     },
     "execution_count": 75,
     "metadata": {},
     "output_type": "execute_result"
    }
   ],
   "source": [
    "data2 = pd.read_csv('concertriccir2.csv')\n",
    "data2"
   ]
  },
  {
   "cell_type": "code",
   "execution_count": 76,
   "metadata": {},
   "outputs": [
    {
     "data": {
      "text/plain": [
       "<Axes: xlabel='X', ylabel='Y'>"
      ]
     },
     "execution_count": 76,
     "metadata": {},
     "output_type": "execute_result"
    },
    {
     "data": {
      "image/png": "[encoded data removed]",
      "text/plain": [
       "<Figure size 640x480 with 2 Axes>"
      ]
     },
     "metadata": {},
     "output_type": "display_data"
    }
   ],
   "source": [
    "data2.plot(x='X', y='Y', c=data2['class'], kind='scatter', colormap='viridis')"
   ]
  },
  {
   "cell_type": "code",
   "execution_count": 77,
   "metadata": {},
   "outputs": [],
   "source": [
    "# Separating features & target and splitting them as training & testing dataset\n",
    "X = data2[['X','Y']].values\n",
    "y = data2['class'].values\n",
    "x_train, x_test, y_train, y_test = train_test_split(X,y,test_size = 0.3, random_state=7)\n",
    "\n",
    "from sklearn.preprocessing import StandardScaler\n",
    "scaler = StandardScaler()\n",
    "x_train = scaler.fit_transform(x_train)\n",
    "x_test = scaler.transform(x_test)"
   ]
  },
  {
   "cell_type": "code",
   "execution_count": 96,
   "metadata": {},
   "outputs": [],
   "source": [
    "k=[]\n",
    "train_score=[]\n",
    "cv_score=[]\n",
    "\n",
    "# Calculating train and cv score on different K values\n",
    "for i in [1,2,3,4,5,6,7,8,9,10,20,50]:\n",
    "    knn2 = KNeighborsClassifier(i) #initialising the model\n",
    "    knn2.fit(x_train,y_train) # training the model\n",
    "    #print(\"K value  : \" , i, \" train score : \", knn2.score(x_train,y_train) , \" cv score : \", np.mean(cross_val_score(knn2, x_train, y_train, cv=10))) #predicting using the model\n",
    "    k.append(i)\n",
    "    train_score.append(knn2.score(x_train,y_train))\n",
    "    cv_score.append(np.mean(cross_val_score(knn2, x_train, y_train, cv=5)))\n",
    "    \n",
    "score = {'K':k,'Train_Score':train_score,'CV_Score':cv_score}\n",
    "score = pd.DataFrame(score)"
   ]
  },
  {
   "cell_type": "code",
   "execution_count": 97,
   "metadata": {},
   "outputs": [
    {
     "data": {
      "text/html": [
       "<div>\n",
       "<style scoped>\n",
       "    .dataframe tbody tr th:only-of-type {\n",
       "        vertical-align: middle;\n",
       "    }\n",
       "\n",
       "    .dataframe tbody tr th {\n",
       "        vertical-align: top;\n",
       "    }\n",
       "\n",
       "    .dataframe thead th {\n",
       "        text-align: right;\n",
       "    }\n",
       "</style>\n",
       "<table border=\"1\" class=\"dataframe\">\n",
       "  <thead>\n",
       "    <tr style=\"text-align: right;\">\n",
       "      <th></th>\n",
       "      <th>K</th>\n",
       "      <th>Train_Score</th>\n",
       "      <th>CV_Score</th>\n",
       "    </tr>\n",
       "  </thead>\n",
       "  <tbody>\n",
       "    <tr>\n",
       "      <th>0</th>\n",
       "      <td>1</td>\n",
       "      <td>1.000000</td>\n",
       "      <td>0.894286</td>\n",
       "    </tr>\n",
       "    <tr>\n",
       "      <th>1</th>\n",
       "      <td>2</td>\n",
       "      <td>0.960000</td>\n",
       "      <td>0.874286</td>\n",
       "    </tr>\n",
       "    <tr>\n",
       "      <th>2</th>\n",
       "      <td>3</td>\n",
       "      <td>0.951429</td>\n",
       "      <td>0.897143</td>\n",
       "    </tr>\n",
       "    <tr>\n",
       "      <th>3</th>\n",
       "      <td>4</td>\n",
       "      <td>0.934286</td>\n",
       "      <td>0.868571</td>\n",
       "    </tr>\n",
       "    <tr>\n",
       "      <th>4</th>\n",
       "      <td>5</td>\n",
       "      <td>0.948571</td>\n",
       "      <td>0.888571</td>\n",
       "    </tr>\n",
       "    <tr>\n",
       "      <th>5</th>\n",
       "      <td>6</td>\n",
       "      <td>0.940000</td>\n",
       "      <td>0.880000</td>\n",
       "    </tr>\n",
       "    <tr>\n",
       "      <th>6</th>\n",
       "      <td>7</td>\n",
       "      <td>0.937143</td>\n",
       "      <td>0.882857</td>\n",
       "    </tr>\n",
       "    <tr>\n",
       "      <th>7</th>\n",
       "      <td>8</td>\n",
       "      <td>0.925714</td>\n",
       "      <td>0.862857</td>\n",
       "    </tr>\n",
       "    <tr>\n",
       "      <th>8</th>\n",
       "      <td>9</td>\n",
       "      <td>0.917143</td>\n",
       "      <td>0.871429</td>\n",
       "    </tr>\n",
       "    <tr>\n",
       "      <th>9</th>\n",
       "      <td>10</td>\n",
       "      <td>0.905714</td>\n",
       "      <td>0.857143</td>\n",
       "    </tr>\n",
       "    <tr>\n",
       "      <th>10</th>\n",
       "      <td>20</td>\n",
       "      <td>0.877143</td>\n",
       "      <td>0.825714</td>\n",
       "    </tr>\n",
       "    <tr>\n",
       "      <th>11</th>\n",
       "      <td>50</td>\n",
       "      <td>0.737143</td>\n",
       "      <td>0.677143</td>\n",
       "    </tr>\n",
       "  </tbody>\n",
       "</table>\n",
       "</div>"
      ],
      "text/plain": [
       "     K  Train_Score  CV_Score\n",
       "0    1     1.000000  0.894286\n",
       "1    2     0.960000  0.874286\n",
       "2    3     0.951429  0.897143\n",
       "3    4     0.934286  0.868571\n",
       "4    5     0.948571  0.888571\n",
       "5    6     0.940000  0.880000\n",
       "6    7     0.937143  0.882857\n",
       "7    8     0.925714  0.862857\n",
       "8    9     0.917143  0.871429\n",
       "9   10     0.905714  0.857143\n",
       "10  20     0.877143  0.825714\n",
       "11  50     0.737143  0.677143"
      ]
     },
     "execution_count": 97,
     "metadata": {},
     "output_type": "execute_result"
    }
   ],
   "source": [
    "score"
   ]
  },
  {
   "cell_type": "markdown",
   "metadata": {},
   "source": [
    "k = 3 is the best value of k - hyperparameter tuning"
   ]
  },
  {
   "cell_type": "markdown",
   "metadata": {},
   "source": [
    "### From the below plots, we are comparing how the decision boundary changes as the k value increments"
   ]
  },
  {
   "cell_type": "code",
   "execution_count": 22,
   "metadata": {},
   "outputs": [],
   "source": [
    "for i in [1,3,5,6,8,10,20,30,40,80]:\n",
    "    knn_comparison(data2, i)"
   ]
  },
  {
   "cell_type": "code",
   "execution_count": 98,
   "metadata": {},
   "outputs": [],
   "source": [
    "# Calculating train and cv score on different K values\n",
    "k=[]\n",
    "test_score=[]\n",
    "for i in [1,2,3,4,5,6,7,8,9,10,20,50]:\n",
    "    knn = KNeighborsClassifier(i) #initialising the model\n",
    "    knn.fit(x_train,y_train) # training the model\n",
    "    k.append(i)\n",
    "    test_score.append(knn.score(x_test,y_test))\n",
    "    #print(\"K value  : \" , i, \" train score : \", knn.score(x_train,y_train) , \" cv score : \", np.mean(cross_val_score(knn, x_train, y_train, cv=10))) #predicting using the model\n",
    "score = {'K':k,'Test_Score':test_score}\n",
    "score = pd.DataFrame(score)"
   ]
  },
  {
   "cell_type": "code",
   "execution_count": 99,
   "metadata": {},
   "outputs": [
    {
     "data": {
      "text/html": [
       "<div>\n",
       "<style scoped>\n",
       "    .dataframe tbody tr th:only-of-type {\n",
       "        vertical-align: middle;\n",
       "    }\n",
       "\n",
       "    .dataframe tbody tr th {\n",
       "        vertical-align: top;\n",
       "    }\n",
       "\n",
       "    .dataframe thead th {\n",
       "        text-align: right;\n",
       "    }\n",
       "</style>\n",
       "<table border=\"1\" class=\"dataframe\">\n",
       "  <thead>\n",
       "    <tr style=\"text-align: right;\">\n",
       "      <th></th>\n",
       "      <th>K</th>\n",
       "      <th>Test_Score</th>\n",
       "    </tr>\n",
       "  </thead>\n",
       "  <tbody>\n",
       "    <tr>\n",
       "      <th>0</th>\n",
       "      <td>1</td>\n",
       "      <td>0.860000</td>\n",
       "    </tr>\n",
       "    <tr>\n",
       "      <th>1</th>\n",
       "      <td>2</td>\n",
       "      <td>0.873333</td>\n",
       "    </tr>\n",
       "    <tr>\n",
       "      <th>2</th>\n",
       "      <td>3</td>\n",
       "      <td>0.886667</td>\n",
       "    </tr>\n",
       "    <tr>\n",
       "      <th>3</th>\n",
       "      <td>4</td>\n",
       "      <td>0.873333</td>\n",
       "    </tr>\n",
       "    <tr>\n",
       "      <th>4</th>\n",
       "      <td>5</td>\n",
       "      <td>0.873333</td>\n",
       "    </tr>\n",
       "    <tr>\n",
       "      <th>5</th>\n",
       "      <td>6</td>\n",
       "      <td>0.880000</td>\n",
       "    </tr>\n",
       "    <tr>\n",
       "      <th>6</th>\n",
       "      <td>7</td>\n",
       "      <td>0.840000</td>\n",
       "    </tr>\n",
       "    <tr>\n",
       "      <th>7</th>\n",
       "      <td>8</td>\n",
       "      <td>0.860000</td>\n",
       "    </tr>\n",
       "    <tr>\n",
       "      <th>8</th>\n",
       "      <td>9</td>\n",
       "      <td>0.840000</td>\n",
       "    </tr>\n",
       "    <tr>\n",
       "      <th>9</th>\n",
       "      <td>10</td>\n",
       "      <td>0.840000</td>\n",
       "    </tr>\n",
       "    <tr>\n",
       "      <th>10</th>\n",
       "      <td>20</td>\n",
       "      <td>0.833333</td>\n",
       "    </tr>\n",
       "    <tr>\n",
       "      <th>11</th>\n",
       "      <td>50</td>\n",
       "      <td>0.753333</td>\n",
       "    </tr>\n",
       "  </tbody>\n",
       "</table>\n",
       "</div>"
      ],
      "text/plain": [
       "     K  Test_Score\n",
       "0    1    0.860000\n",
       "1    2    0.873333\n",
       "2    3    0.886667\n",
       "3    4    0.873333\n",
       "4    5    0.873333\n",
       "5    6    0.880000\n",
       "6    7    0.840000\n",
       "7    8    0.860000\n",
       "8    9    0.840000\n",
       "9   10    0.840000\n",
       "10  20    0.833333\n",
       "11  50    0.753333"
      ]
     },
     "execution_count": 99,
     "metadata": {},
     "output_type": "execute_result"
    }
   ],
   "source": [
    "score"
   ]
  },
  {
   "cell_type": "markdown",
   "metadata": {},
   "source": [
    "From the Test Score table, it is evident that we have selected the best value of K correctly since it gives the highest test score\n",
    "\n",
    "Optimum Model Accuracy = 88.67% ;\n",
    "Best K value = 3"
   ]
  },
  {
   "cell_type": "markdown",
   "metadata": {},
   "source": [
    "Let's try predicting class with random sample input"
   ]
  },
  {
   "cell_type": "code",
   "execution_count": 100,
   "metadata": {},
   "outputs": [
    {
     "data": {
      "image/png": "[encoded data removed]",
      "text/plain": [
       "<Figure size 640x480 with 1 Axes>"
      ]
     },
     "metadata": {},
     "output_type": "display_data"
    }
   ],
   "source": [
    "classes = data2['class'].unique()\n",
    "\n",
    "for c in classes:\n",
    "    class_data = data2[data2['class'] == c]\n",
    "    plt.scatter(class_data['X'], class_data['Y'], label= str(c))\n",
    "\n",
    "plt.legend(title='Classes')\n",
    "plt.xlabel('x1')\n",
    "plt.ylabel('x2')\n",
    "plt.show()"
   ]
  },
  {
   "cell_type": "code",
   "execution_count": 26,
   "metadata": {},
   "outputs": [
    {
     "name": "stdout",
     "output_type": "stream",
     "text": [
      "PREDICTING KNN SCORE OF X,Y(0,-4): [1.]\n"
     ]
    }
   ],
   "source": [
    "knn2 = KNeighborsClassifier()\n",
    "knn2.fit(x_train,y_train)\n",
    "print('PREDICTING KNN SCORE OF X,Y(0,-4):', knn2.predict(scaler.transform([[0,-4]])))"
   ]
  },
  {
   "cell_type": "markdown",
   "metadata": {},
   "source": [
    "We could compare our result with the plot above"
   ]
  },
  {
   "cell_type": "markdown",
   "metadata": {},
   "source": [
    "\n",
    "### Comparing CV scores with n fold cross validation where n=5,10"
   ]
  },
  {
   "cell_type": "code",
   "execution_count": 27,
   "metadata": {},
   "outputs": [],
   "source": [
    "# Calculating train and cv score on different K values\n",
    "k=[]\n",
    "train_score=[]\n",
    "cv_score_5=[]\n",
    "cv_score_10=[]\n",
    "for i in [1,2,3,4,5,6,7,8,9,10,20,50]:\n",
    "    knn = KNeighborsClassifier(i) #initialising the model\n",
    "    knn.fit(x_train,y_train) # training the model\n",
    "    k.append(i)\n",
    "    train_score.append(knn.score(x_train,y_train))\n",
    "    cv_score_5.append(np.mean(cross_val_score(knn, x_train, y_train, cv=5)))\n",
    "    cv_score_10.append(np.mean(cross_val_score(knn, x_train, y_train, cv=10)))\n",
    "    #print(\"K value  : \" , i, \" train score : \", knn.score(x_train,y_train) , \" cv score : \", np.mean(cross_val_score(knn, x_train, y_train, cv=10))) #predicting using the model\n",
    "score = {'K':k,'Train_Score':train_score,'CV_Score (n=5)':cv_score_5,'CV_Score (n=10)':cv_score_10}\n",
    "score = pd.DataFrame(score)"
   ]
  },
  {
   "cell_type": "code",
   "execution_count": 28,
   "metadata": {},
   "outputs": [
    {
     "data": {
      "text/html": [
       "<div>\n",
       "<style scoped>\n",
       "    .dataframe tbody tr th:only-of-type {\n",
       "        vertical-align: middle;\n",
       "    }\n",
       "\n",
       "    .dataframe tbody tr th {\n",
       "        vertical-align: top;\n",
       "    }\n",
       "\n",
       "    .dataframe thead th {\n",
       "        text-align: right;\n",
       "    }\n",
       "</style>\n",
       "<table border=\"1\" class=\"dataframe\">\n",
       "  <thead>\n",
       "    <tr style=\"text-align: right;\">\n",
       "      <th></th>\n",
       "      <th>K</th>\n",
       "      <th>Train_Score</th>\n",
       "      <th>CV_Score (n=5)</th>\n",
       "      <th>CV_Score (n=10)</th>\n",
       "    </tr>\n",
       "  </thead>\n",
       "  <tbody>\n",
       "    <tr>\n",
       "      <th>0</th>\n",
       "      <td>1</td>\n",
       "      <td>1.000000</td>\n",
       "      <td>0.894286</td>\n",
       "      <td>0.905714</td>\n",
       "    </tr>\n",
       "    <tr>\n",
       "      <th>1</th>\n",
       "      <td>2</td>\n",
       "      <td>0.960000</td>\n",
       "      <td>0.874286</td>\n",
       "      <td>0.882857</td>\n",
       "    </tr>\n",
       "    <tr>\n",
       "      <th>2</th>\n",
       "      <td>3</td>\n",
       "      <td>0.951429</td>\n",
       "      <td>0.897143</td>\n",
       "      <td>0.900000</td>\n",
       "    </tr>\n",
       "    <tr>\n",
       "      <th>3</th>\n",
       "      <td>4</td>\n",
       "      <td>0.934286</td>\n",
       "      <td>0.868571</td>\n",
       "      <td>0.880000</td>\n",
       "    </tr>\n",
       "    <tr>\n",
       "      <th>4</th>\n",
       "      <td>5</td>\n",
       "      <td>0.948571</td>\n",
       "      <td>0.888571</td>\n",
       "      <td>0.885714</td>\n",
       "    </tr>\n",
       "    <tr>\n",
       "      <th>5</th>\n",
       "      <td>6</td>\n",
       "      <td>0.940000</td>\n",
       "      <td>0.880000</td>\n",
       "      <td>0.882857</td>\n",
       "    </tr>\n",
       "    <tr>\n",
       "      <th>6</th>\n",
       "      <td>7</td>\n",
       "      <td>0.937143</td>\n",
       "      <td>0.882857</td>\n",
       "      <td>0.897143</td>\n",
       "    </tr>\n",
       "    <tr>\n",
       "      <th>7</th>\n",
       "      <td>8</td>\n",
       "      <td>0.925714</td>\n",
       "      <td>0.862857</td>\n",
       "      <td>0.888571</td>\n",
       "    </tr>\n",
       "    <tr>\n",
       "      <th>8</th>\n",
       "      <td>9</td>\n",
       "      <td>0.917143</td>\n",
       "      <td>0.871429</td>\n",
       "      <td>0.882857</td>\n",
       "    </tr>\n",
       "    <tr>\n",
       "      <th>9</th>\n",
       "      <td>10</td>\n",
       "      <td>0.905714</td>\n",
       "      <td>0.857143</td>\n",
       "      <td>0.860000</td>\n",
       "    </tr>\n",
       "    <tr>\n",
       "      <th>10</th>\n",
       "      <td>20</td>\n",
       "      <td>0.877143</td>\n",
       "      <td>0.825714</td>\n",
       "      <td>0.837143</td>\n",
       "    </tr>\n",
       "    <tr>\n",
       "      <th>11</th>\n",
       "      <td>50</td>\n",
       "      <td>0.737143</td>\n",
       "      <td>0.677143</td>\n",
       "      <td>0.682857</td>\n",
       "    </tr>\n",
       "  </tbody>\n",
       "</table>\n",
       "</div>"
      ],
      "text/plain": [
       "     K  Train_Score  CV_Score (n=5)  CV_Score (n=10)\n",
       "0    1     1.000000        0.894286         0.905714\n",
       "1    2     0.960000        0.874286         0.882857\n",
       "2    3     0.951429        0.897143         0.900000\n",
       "3    4     0.934286        0.868571         0.880000\n",
       "4    5     0.948571        0.888571         0.885714\n",
       "5    6     0.940000        0.880000         0.882857\n",
       "6    7     0.937143        0.882857         0.897143\n",
       "7    8     0.925714        0.862857         0.888571\n",
       "8    9     0.917143        0.871429         0.882857\n",
       "9   10     0.905714        0.857143         0.860000\n",
       "10  20     0.877143        0.825714         0.837143\n",
       "11  50     0.737143        0.677143         0.682857"
      ]
     },
     "execution_count": 28,
     "metadata": {},
     "output_type": "execute_result"
    }
   ],
   "source": [
    "score"
   ]
  },
  {
   "cell_type": "markdown",
   "metadata": {},
   "source": [
    "# XOR Dataset"
   ]
  },
  {
   "cell_type": "code",
   "execution_count": 101,
   "metadata": {},
   "outputs": [
    {
     "data": {
      "text/html": [
       "<div>\n",
       "<style scoped>\n",
       "    .dataframe tbody tr th:only-of-type {\n",
       "        vertical-align: middle;\n",
       "    }\n",
       "\n",
       "    .dataframe tbody tr th {\n",
       "        vertical-align: top;\n",
       "    }\n",
       "\n",
       "    .dataframe thead th {\n",
       "        text-align: right;\n",
       "    }\n",
       "</style>\n",
       "<table border=\"1\" class=\"dataframe\">\n",
       "  <thead>\n",
       "    <tr style=\"text-align: right;\">\n",
       "      <th></th>\n",
       "      <th>X</th>\n",
       "      <th>Y</th>\n",
       "      <th>class</th>\n",
       "    </tr>\n",
       "  </thead>\n",
       "  <tbody>\n",
       "    <tr>\n",
       "      <th>0</th>\n",
       "      <td>0.978738</td>\n",
       "      <td>2.240893</td>\n",
       "      <td>-1.0</td>\n",
       "    </tr>\n",
       "    <tr>\n",
       "      <th>1</th>\n",
       "      <td>1.867558</td>\n",
       "      <td>-0.977278</td>\n",
       "      <td>1.0</td>\n",
       "    </tr>\n",
       "    <tr>\n",
       "      <th>2</th>\n",
       "      <td>0.950088</td>\n",
       "      <td>-0.151357</td>\n",
       "      <td>1.0</td>\n",
       "    </tr>\n",
       "    <tr>\n",
       "      <th>3</th>\n",
       "      <td>-0.103219</td>\n",
       "      <td>0.410599</td>\n",
       "      <td>1.0</td>\n",
       "    </tr>\n",
       "    <tr>\n",
       "      <th>4</th>\n",
       "      <td>0.144044</td>\n",
       "      <td>1.454274</td>\n",
       "      <td>-1.0</td>\n",
       "    </tr>\n",
       "    <tr>\n",
       "      <th>...</th>\n",
       "      <td>...</td>\n",
       "      <td>...</td>\n",
       "      <td>...</td>\n",
       "    </tr>\n",
       "    <tr>\n",
       "      <th>494</th>\n",
       "      <td>0.441033</td>\n",
       "      <td>0.178793</td>\n",
       "      <td>-1.0</td>\n",
       "    </tr>\n",
       "    <tr>\n",
       "      <th>495</th>\n",
       "      <td>-0.799422</td>\n",
       "      <td>0.240788</td>\n",
       "      <td>1.0</td>\n",
       "    </tr>\n",
       "    <tr>\n",
       "      <th>496</th>\n",
       "      <td>0.289121</td>\n",
       "      <td>0.412871</td>\n",
       "      <td>-1.0</td>\n",
       "    </tr>\n",
       "    <tr>\n",
       "      <th>497</th>\n",
       "      <td>-0.198399</td>\n",
       "      <td>0.094192</td>\n",
       "      <td>1.0</td>\n",
       "    </tr>\n",
       "    <tr>\n",
       "      <th>498</th>\n",
       "      <td>-1.147611</td>\n",
       "      <td>-0.358114</td>\n",
       "      <td>-1.0</td>\n",
       "    </tr>\n",
       "  </tbody>\n",
       "</table>\n",
       "<p>499 rows × 3 columns</p>\n",
       "</div>"
      ],
      "text/plain": [
       "            X         Y  class\n",
       "0    0.978738  2.240893   -1.0\n",
       "1    1.867558 -0.977278    1.0\n",
       "2    0.950088 -0.151357    1.0\n",
       "3   -0.103219  0.410599    1.0\n",
       "4    0.144044  1.454274   -1.0\n",
       "..        ...       ...    ...\n",
       "494  0.441033  0.178793   -1.0\n",
       "495 -0.799422  0.240788    1.0\n",
       "496  0.289121  0.412871   -1.0\n",
       "497 -0.198399  0.094192    1.0\n",
       "498 -1.147611 -0.358114   -1.0\n",
       "\n",
       "[499 rows x 3 columns]"
      ]
     },
     "execution_count": 101,
     "metadata": {},
     "output_type": "execute_result"
    }
   ],
   "source": [
    "data3 = pd.read_csv('xor.csv')\n",
    "data3.columns=['X','Y','class']\n",
    "data3"
   ]
  },
  {
   "cell_type": "code",
   "execution_count": 102,
   "metadata": {},
   "outputs": [
    {
     "data": {
      "image/png": "[encoded data removed]",
      "text/plain": [
       "<Figure size 640x480 with 1 Axes>"
      ]
     },
     "metadata": {},
     "output_type": "display_data"
    }
   ],
   "source": [
    "classes = data3['class'].unique()\n",
    "\n",
    "for c in classes:\n",
    "    class_data = data3[data3['class'] == c]\n",
    "    plt.scatter(class_data['X'], class_data['Y'], label='Class ' + str(c))\n",
    "\n",
    "plt.legend(title='Classes')\n",
    "plt.xlabel('x1')\n",
    "plt.ylabel('x2')\n",
    "plt.show()"
   ]
  },
  {
   "cell_type": "code",
   "execution_count": 111,
   "metadata": {},
   "outputs": [],
   "source": [
    "# Separating features & target and splitting them as training & testing dataset\n",
    "X = data3[['X','Y']].values\n",
    "y = data3['class'].values\n",
    "x_train, x_test, y_train, y_test = train_test_split(X,y,test_size = 0.3, random_state=3)\n",
    "\n",
    "from sklearn.preprocessing import StandardScaler\n",
    "scaler = StandardScaler()\n",
    "x_train = scaler.fit_transform(x_train)\n",
    "x_test = scaler.transform(x_test)"
   ]
  },
  {
   "cell_type": "code",
   "execution_count": 112,
   "metadata": {},
   "outputs": [],
   "source": [
    "k=[]\n",
    "train_score=[]\n",
    "cv_score=[]\n",
    "\n",
    "# Calculating train and cv score on different K values\n",
    "for i in [1,2,3,4,5,6,7,8,9,10,20,50]:\n",
    "    knn3 = KNeighborsClassifier(i) #initialising the model\n",
    "    knn3.fit(x_train,y_train) # training the model\n",
    "    #print(\"K value  : \" , i, \" train score : \", knn2.score(x_train,y_train) , \" cv score : \", np.mean(cross_val_score(knn2, x_train, y_train, cv=10))) #predicting using the model\n",
    "    k.append(i)\n",
    "    train_score.append(knn3.score(x_train,y_train))\n",
    "    cv_score.append(np.mean(cross_val_score(knn3, x_train, y_train, cv=5)))\n",
    "    \n",
    "score = {'K':k,'Train_Score':train_score,'CV_Score':cv_score}\n",
    "score = pd.DataFrame(score)"
   ]
  },
  {
   "cell_type": "code",
   "execution_count": 113,
   "metadata": {},
   "outputs": [
    {
     "data": {
      "text/html": [
       "<div>\n",
       "<style scoped>\n",
       "    .dataframe tbody tr th:only-of-type {\n",
       "        vertical-align: middle;\n",
       "    }\n",
       "\n",
       "    .dataframe tbody tr th {\n",
       "        vertical-align: top;\n",
       "    }\n",
       "\n",
       "    .dataframe thead th {\n",
       "        text-align: right;\n",
       "    }\n",
       "</style>\n",
       "<table border=\"1\" class=\"dataframe\">\n",
       "  <thead>\n",
       "    <tr style=\"text-align: right;\">\n",
       "      <th></th>\n",
       "      <th>K</th>\n",
       "      <th>Train_Score</th>\n",
       "      <th>CV_Score</th>\n",
       "    </tr>\n",
       "  </thead>\n",
       "  <tbody>\n",
       "    <tr>\n",
       "      <th>0</th>\n",
       "      <td>1</td>\n",
       "      <td>1.000000</td>\n",
       "      <td>0.942857</td>\n",
       "    </tr>\n",
       "    <tr>\n",
       "      <th>1</th>\n",
       "      <td>2</td>\n",
       "      <td>0.974212</td>\n",
       "      <td>0.942733</td>\n",
       "    </tr>\n",
       "    <tr>\n",
       "      <th>2</th>\n",
       "      <td>3</td>\n",
       "      <td>0.979943</td>\n",
       "      <td>0.968530</td>\n",
       "    </tr>\n",
       "    <tr>\n",
       "      <th>3</th>\n",
       "      <td>4</td>\n",
       "      <td>0.977077</td>\n",
       "      <td>0.954161</td>\n",
       "    </tr>\n",
       "    <tr>\n",
       "      <th>4</th>\n",
       "      <td>5</td>\n",
       "      <td>0.977077</td>\n",
       "      <td>0.965631</td>\n",
       "    </tr>\n",
       "    <tr>\n",
       "      <th>5</th>\n",
       "      <td>6</td>\n",
       "      <td>0.977077</td>\n",
       "      <td>0.962816</td>\n",
       "    </tr>\n",
       "    <tr>\n",
       "      <th>6</th>\n",
       "      <td>7</td>\n",
       "      <td>0.977077</td>\n",
       "      <td>0.965673</td>\n",
       "    </tr>\n",
       "    <tr>\n",
       "      <th>7</th>\n",
       "      <td>8</td>\n",
       "      <td>0.979943</td>\n",
       "      <td>0.957101</td>\n",
       "    </tr>\n",
       "    <tr>\n",
       "      <th>8</th>\n",
       "      <td>9</td>\n",
       "      <td>0.985673</td>\n",
       "      <td>0.948489</td>\n",
       "    </tr>\n",
       "    <tr>\n",
       "      <th>9</th>\n",
       "      <td>10</td>\n",
       "      <td>0.982808</td>\n",
       "      <td>0.945549</td>\n",
       "    </tr>\n",
       "    <tr>\n",
       "      <th>10</th>\n",
       "      <td>20</td>\n",
       "      <td>0.954155</td>\n",
       "      <td>0.925507</td>\n",
       "    </tr>\n",
       "    <tr>\n",
       "      <th>11</th>\n",
       "      <td>50</td>\n",
       "      <td>0.945559</td>\n",
       "      <td>0.911263</td>\n",
       "    </tr>\n",
       "  </tbody>\n",
       "</table>\n",
       "</div>"
      ],
      "text/plain": [
       "     K  Train_Score  CV_Score\n",
       "0    1     1.000000  0.942857\n",
       "1    2     0.974212  0.942733\n",
       "2    3     0.979943  0.968530\n",
       "3    4     0.977077  0.954161\n",
       "4    5     0.977077  0.965631\n",
       "5    6     0.977077  0.962816\n",
       "6    7     0.977077  0.965673\n",
       "7    8     0.979943  0.957101\n",
       "8    9     0.985673  0.948489\n",
       "9   10     0.982808  0.945549\n",
       "10  20     0.954155  0.925507\n",
       "11  50     0.945559  0.911263"
      ]
     },
     "execution_count": 113,
     "metadata": {},
     "output_type": "execute_result"
    }
   ],
   "source": [
    "score"
   ]
  },
  {
   "cell_type": "markdown",
   "metadata": {},
   "source": [
    "**k = 3** is the best value of k. Found using Hyper-Parameter Tuning"
   ]
  },
  {
   "cell_type": "markdown",
   "metadata": {},
   "source": [
    "### From the below plots, we are comparing how the decision boundary changes as the k value increments"
   ]
  },
  {
   "cell_type": "code",
   "execution_count": 34,
   "metadata": {},
   "outputs": [],
   "source": [
    "for i in [1,3,5,6,8,10,20,30,80]:\n",
    "    knn_comparison(data3, i)"
   ]
  },
  {
   "cell_type": "code",
   "execution_count": 114,
   "metadata": {},
   "outputs": [],
   "source": [
    "# Calculating train and cv score on different K values\n",
    "k=[]\n",
    "test_score=[]\n",
    "for i in [1,2,3,4,5,6,7,8,9,10,20,50]:\n",
    "    knn = KNeighborsClassifier(i) #initialising the model\n",
    "    knn.fit(x_train,y_train) # training the model\n",
    "    k.append(i)\n",
    "    test_score.append(knn.score(x_test,y_test))\n",
    "    #print(\"K value  : \" , i, \" train score : \", knn.score(x_train,y_train) , \" cv score : \", np.mean(cross_val_score(knn, x_train, y_train, cv=10))) #predicting using the model\n",
    "score = {'K':k,'Test_Score':test_score}\n",
    "score = pd.DataFrame(score)"
   ]
  },
  {
   "cell_type": "code",
   "execution_count": 115,
   "metadata": {},
   "outputs": [
    {
     "data": {
      "text/html": [
       "<div>\n",
       "<style scoped>\n",
       "    .dataframe tbody tr th:only-of-type {\n",
       "        vertical-align: middle;\n",
       "    }\n",
       "\n",
       "    .dataframe tbody tr th {\n",
       "        vertical-align: top;\n",
       "    }\n",
       "\n",
       "    .dataframe thead th {\n",
       "        text-align: right;\n",
       "    }\n",
       "</style>\n",
       "<table border=\"1\" class=\"dataframe\">\n",
       "  <thead>\n",
       "    <tr style=\"text-align: right;\">\n",
       "      <th></th>\n",
       "      <th>K</th>\n",
       "      <th>Test_Score</th>\n",
       "    </tr>\n",
       "  </thead>\n",
       "  <tbody>\n",
       "    <tr>\n",
       "      <th>0</th>\n",
       "      <td>1</td>\n",
       "      <td>0.960000</td>\n",
       "    </tr>\n",
       "    <tr>\n",
       "      <th>1</th>\n",
       "      <td>2</td>\n",
       "      <td>0.966667</td>\n",
       "    </tr>\n",
       "    <tr>\n",
       "      <th>2</th>\n",
       "      <td>3</td>\n",
       "      <td>0.960000</td>\n",
       "    </tr>\n",
       "    <tr>\n",
       "      <th>3</th>\n",
       "      <td>4</td>\n",
       "      <td>0.960000</td>\n",
       "    </tr>\n",
       "    <tr>\n",
       "      <th>4</th>\n",
       "      <td>5</td>\n",
       "      <td>0.960000</td>\n",
       "    </tr>\n",
       "    <tr>\n",
       "      <th>5</th>\n",
       "      <td>6</td>\n",
       "      <td>0.960000</td>\n",
       "    </tr>\n",
       "    <tr>\n",
       "      <th>6</th>\n",
       "      <td>7</td>\n",
       "      <td>0.946667</td>\n",
       "    </tr>\n",
       "    <tr>\n",
       "      <th>7</th>\n",
       "      <td>8</td>\n",
       "      <td>0.946667</td>\n",
       "    </tr>\n",
       "    <tr>\n",
       "      <th>8</th>\n",
       "      <td>9</td>\n",
       "      <td>0.953333</td>\n",
       "    </tr>\n",
       "    <tr>\n",
       "      <th>9</th>\n",
       "      <td>10</td>\n",
       "      <td>0.946667</td>\n",
       "    </tr>\n",
       "    <tr>\n",
       "      <th>10</th>\n",
       "      <td>20</td>\n",
       "      <td>0.940000</td>\n",
       "    </tr>\n",
       "    <tr>\n",
       "      <th>11</th>\n",
       "      <td>50</td>\n",
       "      <td>0.933333</td>\n",
       "    </tr>\n",
       "  </tbody>\n",
       "</table>\n",
       "</div>"
      ],
      "text/plain": [
       "     K  Test_Score\n",
       "0    1    0.960000\n",
       "1    2    0.966667\n",
       "2    3    0.960000\n",
       "3    4    0.960000\n",
       "4    5    0.960000\n",
       "5    6    0.960000\n",
       "6    7    0.946667\n",
       "7    8    0.946667\n",
       "8    9    0.953333\n",
       "9   10    0.946667\n",
       "10  20    0.940000\n",
       "11  50    0.933333"
      ]
     },
     "execution_count": 115,
     "metadata": {},
     "output_type": "execute_result"
    }
   ],
   "source": [
    "score"
   ]
  },
  {
   "cell_type": "markdown",
   "metadata": {},
   "source": [
    "From the Test Score table, it is evident that we have selected the best value of K correctly since it gives the highest test score\n",
    "\n",
    "Optimum Model Accuracy = 96% ;\n",
    "Best K value = 3"
   ]
  },
  {
   "cell_type": "markdown",
   "metadata": {},
   "source": [
    "### Let's try predicting class with random sample input"
   ]
  },
  {
   "cell_type": "code",
   "execution_count": 37,
   "metadata": {},
   "outputs": [
    {
     "data": {
      "image/png": "[encoded data removed]",
      "text/plain": [
       "<Figure size 640x480 with 1 Axes>"
      ]
     },
     "metadata": {},
     "output_type": "display_data"
    }
   ],
   "source": [
    "classes = data3['class'].unique()\n",
    "\n",
    "for c in classes:\n",
    "    class_data = data3[data3['class'] == c]\n",
    "    plt.scatter(class_data['X'], class_data['Y'], label= str(c))\n",
    "\n",
    "plt.legend(title='Classes')\n",
    "plt.xlabel('x1')\n",
    "plt.ylabel('x2')\n",
    "plt.show()"
   ]
  },
  {
   "cell_type": "code",
   "execution_count": 38,
   "metadata": {},
   "outputs": [
    {
     "name": "stdout",
     "output_type": "stream",
     "text": [
      "PREDICTING KNN SCORE OF X,Y(0,-4): [-1.]\n"
     ]
    }
   ],
   "source": [
    "knn2 = KNeighborsClassifier(3)\n",
    "knn2.fit(x_train,y_train)\n",
    "print('PREDICTING KNN SCORE OF X,Y(0,-4):', knn2.predict(scaler.transform([[1,2]])))"
   ]
  },
  {
   "cell_type": "markdown",
   "metadata": {},
   "source": [
    "We could compare our result with the plot above"
   ]
  },
  {
   "cell_type": "markdown",
   "metadata": {},
   "source": [
    "### Comparing CV scores with n fold cross validation where n=5,10"
   ]
  },
  {
   "cell_type": "code",
   "execution_count": 39,
   "metadata": {},
   "outputs": [],
   "source": [
    "# Calculating train and cv score on different K values\n",
    "k=[]\n",
    "train_score=[]\n",
    "cv_score_5=[]\n",
    "cv_score_10=[]\n",
    "for i in [1,2,3,4,5,6,7,8,9,10,20,50]:\n",
    "    knn = KNeighborsClassifier(i) #initialising the model\n",
    "    knn.fit(x_train,y_train) # training the model\n",
    "    k.append(i)\n",
    "    train_score.append(knn.score(x_train,y_train))\n",
    "    cv_score_5.append(np.mean(cross_val_score(knn, x_train, y_train, cv=5)))\n",
    "    cv_score_10.append(np.mean(cross_val_score(knn, x_train, y_train, cv=10)))\n",
    "    #print(\"K value  : \" , i, \" train score : \", knn.score(x_train,y_train) , \" cv score : \", np.mean(cross_val_score(knn, x_train, y_train, cv=10))) #predicting using the model\n",
    "score = {'K':k,'Train_Score':train_score,'CV_Score (n=5)':cv_score_5,'CV_Score (n=10)':cv_score_10}\n",
    "score = pd.DataFrame(score)"
   ]
  },
  {
   "cell_type": "code",
   "execution_count": 40,
   "metadata": {},
   "outputs": [
    {
     "data": {
      "text/html": [
       "<div>\n",
       "<style scoped>\n",
       "    .dataframe tbody tr th:only-of-type {\n",
       "        vertical-align: middle;\n",
       "    }\n",
       "\n",
       "    .dataframe tbody tr th {\n",
       "        vertical-align: top;\n",
       "    }\n",
       "\n",
       "    .dataframe thead th {\n",
       "        text-align: right;\n",
       "    }\n",
       "</style>\n",
       "<table border=\"1\" class=\"dataframe\">\n",
       "  <thead>\n",
       "    <tr style=\"text-align: right;\">\n",
       "      <th></th>\n",
       "      <th>K</th>\n",
       "      <th>Train_Score</th>\n",
       "      <th>CV_Score (n=5)</th>\n",
       "      <th>CV_Score (n=10)</th>\n",
       "    </tr>\n",
       "  </thead>\n",
       "  <tbody>\n",
       "    <tr>\n",
       "      <th>0</th>\n",
       "      <td>1</td>\n",
       "      <td>1.000000</td>\n",
       "      <td>0.942857</td>\n",
       "      <td>0.937143</td>\n",
       "    </tr>\n",
       "    <tr>\n",
       "      <th>1</th>\n",
       "      <td>2</td>\n",
       "      <td>0.974212</td>\n",
       "      <td>0.942733</td>\n",
       "      <td>0.942605</td>\n",
       "    </tr>\n",
       "    <tr>\n",
       "      <th>2</th>\n",
       "      <td>3</td>\n",
       "      <td>0.979943</td>\n",
       "      <td>0.968530</td>\n",
       "      <td>0.960000</td>\n",
       "    </tr>\n",
       "    <tr>\n",
       "      <th>3</th>\n",
       "      <td>4</td>\n",
       "      <td>0.977077</td>\n",
       "      <td>0.954161</td>\n",
       "      <td>0.959832</td>\n",
       "    </tr>\n",
       "    <tr>\n",
       "      <th>4</th>\n",
       "      <td>5</td>\n",
       "      <td>0.977077</td>\n",
       "      <td>0.965631</td>\n",
       "      <td>0.959916</td>\n",
       "    </tr>\n",
       "    <tr>\n",
       "      <th>5</th>\n",
       "      <td>6</td>\n",
       "      <td>0.977077</td>\n",
       "      <td>0.962816</td>\n",
       "      <td>0.959916</td>\n",
       "    </tr>\n",
       "    <tr>\n",
       "      <th>6</th>\n",
       "      <td>7</td>\n",
       "      <td>0.977077</td>\n",
       "      <td>0.965673</td>\n",
       "      <td>0.962857</td>\n",
       "    </tr>\n",
       "    <tr>\n",
       "      <th>7</th>\n",
       "      <td>8</td>\n",
       "      <td>0.979943</td>\n",
       "      <td>0.957101</td>\n",
       "      <td>0.962773</td>\n",
       "    </tr>\n",
       "    <tr>\n",
       "      <th>8</th>\n",
       "      <td>9</td>\n",
       "      <td>0.985673</td>\n",
       "      <td>0.948489</td>\n",
       "      <td>0.957143</td>\n",
       "    </tr>\n",
       "    <tr>\n",
       "      <th>9</th>\n",
       "      <td>10</td>\n",
       "      <td>0.982808</td>\n",
       "      <td>0.945549</td>\n",
       "      <td>0.948403</td>\n",
       "    </tr>\n",
       "    <tr>\n",
       "      <th>10</th>\n",
       "      <td>20</td>\n",
       "      <td>0.954155</td>\n",
       "      <td>0.925507</td>\n",
       "      <td>0.928235</td>\n",
       "    </tr>\n",
       "    <tr>\n",
       "      <th>11</th>\n",
       "      <td>50</td>\n",
       "      <td>0.945559</td>\n",
       "      <td>0.911263</td>\n",
       "      <td>0.919748</td>\n",
       "    </tr>\n",
       "  </tbody>\n",
       "</table>\n",
       "</div>"
      ],
      "text/plain": [
       "     K  Train_Score  CV_Score (n=5)  CV_Score (n=10)\n",
       "0    1     1.000000        0.942857         0.937143\n",
       "1    2     0.974212        0.942733         0.942605\n",
       "2    3     0.979943        0.968530         0.960000\n",
       "3    4     0.977077        0.954161         0.959832\n",
       "4    5     0.977077        0.965631         0.959916\n",
       "5    6     0.977077        0.962816         0.959916\n",
       "6    7     0.977077        0.965673         0.962857\n",
       "7    8     0.979943        0.957101         0.962773\n",
       "8    9     0.985673        0.948489         0.957143\n",
       "9   10     0.982808        0.945549         0.948403\n",
       "10  20     0.954155        0.925507         0.928235\n",
       "11  50     0.945559        0.911263         0.919748"
      ]
     },
     "execution_count": 40,
     "metadata": {},
     "output_type": "execute_result"
    }
   ],
   "source": [
    "score"
   ]
  },
  {
   "cell_type": "markdown",
   "metadata": {},
   "source": [
    "# Linearly Separable Dataset"
   ]
  },
  {
   "cell_type": "code",
   "execution_count": 134,
   "metadata": {},
   "outputs": [
    {
     "data": {
      "text/html": [
       "<div>\n",
       "<style scoped>\n",
       "    .dataframe tbody tr th:only-of-type {\n",
       "        vertical-align: middle;\n",
       "    }\n",
       "\n",
       "    .dataframe tbody tr th {\n",
       "        vertical-align: top;\n",
       "    }\n",
       "\n",
       "    .dataframe thead th {\n",
       "        text-align: right;\n",
       "    }\n",
       "</style>\n",
       "<table border=\"1\" class=\"dataframe\">\n",
       "  <thead>\n",
       "    <tr style=\"text-align: right;\">\n",
       "      <th></th>\n",
       "      <th>X</th>\n",
       "      <th>Y</th>\n",
       "      <th>class</th>\n",
       "    </tr>\n",
       "  </thead>\n",
       "  <tbody>\n",
       "    <tr>\n",
       "      <th>0</th>\n",
       "      <td>1.977424</td>\n",
       "      <td>1.766155</td>\n",
       "      <td>0.0</td>\n",
       "    </tr>\n",
       "    <tr>\n",
       "      <th>1</th>\n",
       "      <td>1.800024</td>\n",
       "      <td>1.700343</td>\n",
       "      <td>0.0</td>\n",
       "    </tr>\n",
       "    <tr>\n",
       "      <th>2</th>\n",
       "      <td>-0.770837</td>\n",
       "      <td>2.359163</td>\n",
       "      <td>1.0</td>\n",
       "    </tr>\n",
       "    <tr>\n",
       "      <th>3</th>\n",
       "      <td>-0.308009</td>\n",
       "      <td>1.594063</td>\n",
       "      <td>1.0</td>\n",
       "    </tr>\n",
       "    <tr>\n",
       "      <th>4</th>\n",
       "      <td>0.614721</td>\n",
       "      <td>2.434898</td>\n",
       "      <td>1.0</td>\n",
       "    </tr>\n",
       "    <tr>\n",
       "      <th>...</th>\n",
       "      <td>...</td>\n",
       "      <td>...</td>\n",
       "      <td>...</td>\n",
       "    </tr>\n",
       "    <tr>\n",
       "      <th>94</th>\n",
       "      <td>2.632382</td>\n",
       "      <td>1.271305</td>\n",
       "      <td>0.0</td>\n",
       "    </tr>\n",
       "    <tr>\n",
       "      <th>95</th>\n",
       "      <td>-0.040256</td>\n",
       "      <td>1.782708</td>\n",
       "      <td>1.0</td>\n",
       "    </tr>\n",
       "    <tr>\n",
       "      <th>96</th>\n",
       "      <td>-0.787453</td>\n",
       "      <td>1.400357</td>\n",
       "      <td>1.0</td>\n",
       "    </tr>\n",
       "    <tr>\n",
       "      <th>97</th>\n",
       "      <td>2.702441</td>\n",
       "      <td>1.587444</td>\n",
       "      <td>0.0</td>\n",
       "    </tr>\n",
       "    <tr>\n",
       "      <th>98</th>\n",
       "      <td>1.290969</td>\n",
       "      <td>2.751937</td>\n",
       "      <td>1.0</td>\n",
       "    </tr>\n",
       "  </tbody>\n",
       "</table>\n",
       "<p>99 rows × 3 columns</p>\n",
       "</div>"
      ],
      "text/plain": [
       "           X         Y  class\n",
       "0   1.977424  1.766155    0.0\n",
       "1   1.800024  1.700343    0.0\n",
       "2  -0.770837  2.359163    1.0\n",
       "3  -0.308009  1.594063    1.0\n",
       "4   0.614721  2.434898    1.0\n",
       "..       ...       ...    ...\n",
       "94  2.632382  1.271305    0.0\n",
       "95 -0.040256  1.782708    1.0\n",
       "96 -0.787453  1.400357    1.0\n",
       "97  2.702441  1.587444    0.0\n",
       "98  1.290969  2.751937    1.0\n",
       "\n",
       "[99 rows x 3 columns]"
      ]
     },
     "execution_count": 134,
     "metadata": {},
     "output_type": "execute_result"
    }
   ],
   "source": [
    "data4 = pd.read_csv('linearsep.csv')\n",
    "data4.columns=['X','Y','class']\n",
    "data4"
   ]
  },
  {
   "cell_type": "code",
   "execution_count": 135,
   "metadata": {},
   "outputs": [
    {
     "data": {
      "image/png": "[encoded data removed]",
      "text/plain": [
       "<Figure size 640x480 with 1 Axes>"
      ]
     },
     "metadata": {},
     "output_type": "display_data"
    }
   ],
   "source": [
    "classes = data4['class'].unique()\n",
    "\n",
    "for c in classes:\n",
    "    class_data = data4[data4['class'] == c]\n",
    "    plt.scatter(class_data['X'], class_data['Y'], label= str(c))\n",
    "\n",
    "plt.legend(title='Classes')\n",
    "plt.xlabel('x1')\n",
    "plt.ylabel('x2')\n",
    "plt.show()"
   ]
  },
  {
   "cell_type": "code",
   "execution_count": 136,
   "metadata": {},
   "outputs": [],
   "source": [
    "# Separating features & target and splitting them as training & testing dataset\n",
    "X = data4[['X','Y']].values\n",
    "y = data4['class'].values\n",
    "x_train, x_test, y_train, y_test = train_test_split(X,y,test_size = 0.3, random_state=7)\n",
    "\n",
    "from sklearn.preprocessing import StandardScaler\n",
    "scaler = StandardScaler()\n",
    "x_train = scaler.fit_transform(x_train)\n",
    "x_test = scaler.transform(x_test)"
   ]
  },
  {
   "cell_type": "code",
   "execution_count": 137,
   "metadata": {},
   "outputs": [],
   "source": [
    "k=[]\n",
    "train_score=[]\n",
    "cv_score=[]\n",
    "\n",
    "# Calculating train and cv score on different K values\n",
    "for i in [1,2,3,4,5,6,7,8,9,10,20,50]:\n",
    "    knn4 = KNeighborsClassifier(i) #initialising the model\n",
    "    knn4.fit(x_train,y_train) # training the model\n",
    "    #print(\"K value  : \" , i, \" train score : \", knn2.score(x_train,y_train) , \" cv score : \", np.mean(cross_val_score(knn2, x_train, y_train, cv=10))) #predicting using the model\n",
    "    k.append(i)\n",
    "    train_score.append(knn4.score(x_train,y_train))\n",
    "    cv_score.append(np.mean(cross_val_score(knn4, x_train, y_train, cv=10)))\n",
    "    \n",
    "score = {'K':k,'Train_Score':train_score,'CV_Score':cv_score}\n",
    "score = pd.DataFrame(score)"
   ]
  },
  {
   "cell_type": "code",
   "execution_count": 138,
   "metadata": {},
   "outputs": [
    {
     "data": {
      "text/html": [
       "<div>\n",
       "<style scoped>\n",
       "    .dataframe tbody tr th:only-of-type {\n",
       "        vertical-align: middle;\n",
       "    }\n",
       "\n",
       "    .dataframe tbody tr th {\n",
       "        vertical-align: top;\n",
       "    }\n",
       "\n",
       "    .dataframe thead th {\n",
       "        text-align: right;\n",
       "    }\n",
       "</style>\n",
       "<table border=\"1\" class=\"dataframe\">\n",
       "  <thead>\n",
       "    <tr style=\"text-align: right;\">\n",
       "      <th></th>\n",
       "      <th>K</th>\n",
       "      <th>Train_Score</th>\n",
       "      <th>CV_Score</th>\n",
       "    </tr>\n",
       "  </thead>\n",
       "  <tbody>\n",
       "    <tr>\n",
       "      <th>0</th>\n",
       "      <td>1</td>\n",
       "      <td>1.000000</td>\n",
       "      <td>0.942857</td>\n",
       "    </tr>\n",
       "    <tr>\n",
       "      <th>1</th>\n",
       "      <td>2</td>\n",
       "      <td>0.956522</td>\n",
       "      <td>0.942857</td>\n",
       "    </tr>\n",
       "    <tr>\n",
       "      <th>2</th>\n",
       "      <td>3</td>\n",
       "      <td>0.971014</td>\n",
       "      <td>0.971429</td>\n",
       "    </tr>\n",
       "    <tr>\n",
       "      <th>3</th>\n",
       "      <td>4</td>\n",
       "      <td>0.971014</td>\n",
       "      <td>0.971429</td>\n",
       "    </tr>\n",
       "    <tr>\n",
       "      <th>4</th>\n",
       "      <td>5</td>\n",
       "      <td>0.971014</td>\n",
       "      <td>0.971429</td>\n",
       "    </tr>\n",
       "    <tr>\n",
       "      <th>5</th>\n",
       "      <td>6</td>\n",
       "      <td>0.971014</td>\n",
       "      <td>0.957143</td>\n",
       "    </tr>\n",
       "    <tr>\n",
       "      <th>6</th>\n",
       "      <td>7</td>\n",
       "      <td>0.971014</td>\n",
       "      <td>0.957143</td>\n",
       "    </tr>\n",
       "    <tr>\n",
       "      <th>7</th>\n",
       "      <td>8</td>\n",
       "      <td>0.956522</td>\n",
       "      <td>0.957143</td>\n",
       "    </tr>\n",
       "    <tr>\n",
       "      <th>8</th>\n",
       "      <td>9</td>\n",
       "      <td>0.956522</td>\n",
       "      <td>0.957143</td>\n",
       "    </tr>\n",
       "    <tr>\n",
       "      <th>9</th>\n",
       "      <td>10</td>\n",
       "      <td>0.942029</td>\n",
       "      <td>0.957143</td>\n",
       "    </tr>\n",
       "    <tr>\n",
       "      <th>10</th>\n",
       "      <td>20</td>\n",
       "      <td>0.956522</td>\n",
       "      <td>0.957143</td>\n",
       "    </tr>\n",
       "    <tr>\n",
       "      <th>11</th>\n",
       "      <td>50</td>\n",
       "      <td>0.927536</td>\n",
       "      <td>0.900000</td>\n",
       "    </tr>\n",
       "  </tbody>\n",
       "</table>\n",
       "</div>"
      ],
      "text/plain": [
       "     K  Train_Score  CV_Score\n",
       "0    1     1.000000  0.942857\n",
       "1    2     0.956522  0.942857\n",
       "2    3     0.971014  0.971429\n",
       "3    4     0.971014  0.971429\n",
       "4    5     0.971014  0.971429\n",
       "5    6     0.971014  0.957143\n",
       "6    7     0.971014  0.957143\n",
       "7    8     0.956522  0.957143\n",
       "8    9     0.956522  0.957143\n",
       "9   10     0.942029  0.957143\n",
       "10  20     0.956522  0.957143\n",
       "11  50     0.927536  0.900000"
      ]
     },
     "execution_count": 138,
     "metadata": {},
     "output_type": "execute_result"
    }
   ],
   "source": [
    "score"
   ]
  },
  {
   "cell_type": "markdown",
   "metadata": {},
   "source": [
    "k = 3,4,5 are the best values of k - hyperparameter tuning"
   ]
  },
  {
   "cell_type": "markdown",
   "metadata": {},
   "source": [
    "### From the below plots, we are comparing how the decision boundary changes as the k value increments¶"
   ]
  },
  {
   "cell_type": "code",
   "execution_count": 139,
   "metadata": {},
   "outputs": [],
   "source": [
    "# Calculating train and cv score on different K values\n",
    "k=[]\n",
    "test_score=[]\n",
    "for i in [1,2,3,4,5,6,7,8,9,10,20,50]:\n",
    "    knn = KNeighborsClassifier(i) #initialising the model\n",
    "    knn.fit(x_train,y_train) # training the model\n",
    "    k.append(i)\n",
    "    test_score.append(knn.score(x_test,y_test))\n",
    "    #print(\"K value  : \" , i, \" train score : \", knn.score(x_train,y_train) , \" cv score : \", np.mean(cross_val_score(knn, x_train, y_train, cv=10))) #predicting using the model\n",
    "score = {'K':k,'Test_Score':test_score}\n",
    "score = pd.DataFrame(score)"
   ]
  },
  {
   "cell_type": "code",
   "execution_count": 140,
   "metadata": {},
   "outputs": [
    {
     "data": {
      "text/html": [
       "<div>\n",
       "<style scoped>\n",
       "    .dataframe tbody tr th:only-of-type {\n",
       "        vertical-align: middle;\n",
       "    }\n",
       "\n",
       "    .dataframe tbody tr th {\n",
       "        vertical-align: top;\n",
       "    }\n",
       "\n",
       "    .dataframe thead th {\n",
       "        text-align: right;\n",
       "    }\n",
       "</style>\n",
       "<table border=\"1\" class=\"dataframe\">\n",
       "  <thead>\n",
       "    <tr style=\"text-align: right;\">\n",
       "      <th></th>\n",
       "      <th>K</th>\n",
       "      <th>Test_Score</th>\n",
       "    </tr>\n",
       "  </thead>\n",
       "  <tbody>\n",
       "    <tr>\n",
       "      <th>0</th>\n",
       "      <td>1</td>\n",
       "      <td>0.900000</td>\n",
       "    </tr>\n",
       "    <tr>\n",
       "      <th>1</th>\n",
       "      <td>2</td>\n",
       "      <td>0.933333</td>\n",
       "    </tr>\n",
       "    <tr>\n",
       "      <th>2</th>\n",
       "      <td>3</td>\n",
       "      <td>0.866667</td>\n",
       "    </tr>\n",
       "    <tr>\n",
       "      <th>3</th>\n",
       "      <td>4</td>\n",
       "      <td>0.933333</td>\n",
       "    </tr>\n",
       "    <tr>\n",
       "      <th>4</th>\n",
       "      <td>5</td>\n",
       "      <td>0.900000</td>\n",
       "    </tr>\n",
       "    <tr>\n",
       "      <th>5</th>\n",
       "      <td>6</td>\n",
       "      <td>0.933333</td>\n",
       "    </tr>\n",
       "    <tr>\n",
       "      <th>6</th>\n",
       "      <td>7</td>\n",
       "      <td>0.933333</td>\n",
       "    </tr>\n",
       "    <tr>\n",
       "      <th>7</th>\n",
       "      <td>8</td>\n",
       "      <td>0.933333</td>\n",
       "    </tr>\n",
       "    <tr>\n",
       "      <th>8</th>\n",
       "      <td>9</td>\n",
       "      <td>0.933333</td>\n",
       "    </tr>\n",
       "    <tr>\n",
       "      <th>9</th>\n",
       "      <td>10</td>\n",
       "      <td>0.933333</td>\n",
       "    </tr>\n",
       "    <tr>\n",
       "      <th>10</th>\n",
       "      <td>20</td>\n",
       "      <td>0.900000</td>\n",
       "    </tr>\n",
       "    <tr>\n",
       "      <th>11</th>\n",
       "      <td>50</td>\n",
       "      <td>0.866667</td>\n",
       "    </tr>\n",
       "  </tbody>\n",
       "</table>\n",
       "</div>"
      ],
      "text/plain": [
       "     K  Test_Score\n",
       "0    1    0.900000\n",
       "1    2    0.933333\n",
       "2    3    0.866667\n",
       "3    4    0.933333\n",
       "4    5    0.900000\n",
       "5    6    0.933333\n",
       "6    7    0.933333\n",
       "7    8    0.933333\n",
       "8    9    0.933333\n",
       "9   10    0.933333\n",
       "10  20    0.900000\n",
       "11  50    0.866667"
      ]
     },
     "execution_count": 140,
     "metadata": {},
     "output_type": "execute_result"
    }
   ],
   "source": [
    "score"
   ]
  },
  {
   "cell_type": "markdown",
   "metadata": {},
   "source": [
    "From the Test Score table, it is evident that we have selected the best value of K correctly since it gives the highest test score\n",
    "\n",
    "Optimum Model Accuracy = 93.3% ; Best K value = 4"
   ]
  },
  {
   "cell_type": "markdown",
   "metadata": {},
   "source": [
    "### Let's try predicting class with random sample input"
   ]
  },
  {
   "cell_type": "code",
   "execution_count": 141,
   "metadata": {},
   "outputs": [
    {
     "data": {
      "image/png": "[encoded data removed]",
      "text/plain": [
       "<Figure size 640x480 with 1 Axes>"
      ]
     },
     "metadata": {},
     "output_type": "display_data"
    }
   ],
   "source": [
    "classes = data4['class'].unique()\n",
    "\n",
    "for c in classes:\n",
    "    class_data = data4[data4['class'] == c]\n",
    "    plt.scatter(class_data['X'], class_data['Y'], label= str(c))\n",
    "\n",
    "plt.legend(title='Classes')\n",
    "plt.xlabel('x1')\n",
    "plt.ylabel('x2')\n",
    "plt.show()"
   ]
  },
  {
   "cell_type": "code",
   "execution_count": 142,
   "metadata": {},
   "outputs": [
    {
     "name": "stdout",
     "output_type": "stream",
     "text": [
      "PREDICTING KNN SCORE OF X1,X2(0.5,1): [1.]\n"
     ]
    }
   ],
   "source": [
    "knn = KNeighborsClassifier(4)\n",
    "knn.fit(x_train,y_train)\n",
    "print('PREDICTING KNN SCORE OF X1,X2(0.5,1):', knn.predict(scaler.transform([[0.5,1]])))"
   ]
  },
  {
   "cell_type": "markdown",
   "metadata": {},
   "source": [
    "We could compare our result with the plot above"
   ]
  },
  {
   "cell_type": "markdown",
   "metadata": {},
   "source": [
    "### Comparing CV scores with n fold cross validation where n=5,10"
   ]
  },
  {
   "cell_type": "code",
   "execution_count": 143,
   "metadata": {},
   "outputs": [],
   "source": [
    "# Calculating train and cv score on different K values\n",
    "k=[]\n",
    "train_score=[]\n",
    "cv_score_5=[]\n",
    "cv_score_10=[]\n",
    "for i in [1,2,3,4,5,6,7,8,9,10,20,50]:\n",
    "    knn = KNeighborsClassifier(i) #initialising the model\n",
    "    knn.fit(x_train,y_train) # training the model\n",
    "    k.append(i)\n",
    "    train_score.append(knn.score(x_train,y_train))\n",
    "    cv_score_5.append(np.mean(cross_val_score(knn, x_train, y_train, cv=5)))\n",
    "    cv_score_10.append(np.mean(cross_val_score(knn, x_train, y_train, cv=10)))\n",
    "    #print(\"K value  : \" , i, \" train score : \", knn.score(x_train,y_train) , \" cv score : \", np.mean(cross_val_score(knn, x_train, y_train, cv=10))) #predicting using the model\n",
    "score = {'K':k,'Train_Score':train_score,'CV_Score (n=5)':cv_score_5,'CV_Score (n=10)':cv_score_10}\n",
    "score = pd.DataFrame(score)"
   ]
  },
  {
   "cell_type": "code",
   "execution_count": 144,
   "metadata": {},
   "outputs": [
    {
     "data": {
      "text/html": [
       "<div>\n",
       "<style scoped>\n",
       "    .dataframe tbody tr th:only-of-type {\n",
       "        vertical-align: middle;\n",
       "    }\n",
       "\n",
       "    .dataframe tbody tr th {\n",
       "        vertical-align: top;\n",
       "    }\n",
       "\n",
       "    .dataframe thead th {\n",
       "        text-align: right;\n",
       "    }\n",
       "</style>\n",
       "<table border=\"1\" class=\"dataframe\">\n",
       "  <thead>\n",
       "    <tr style=\"text-align: right;\">\n",
       "      <th></th>\n",
       "      <th>K</th>\n",
       "      <th>Train_Score</th>\n",
       "      <th>CV_Score (n=5)</th>\n",
       "      <th>CV_Score (n=10)</th>\n",
       "    </tr>\n",
       "  </thead>\n",
       "  <tbody>\n",
       "    <tr>\n",
       "      <th>0</th>\n",
       "      <td>1</td>\n",
       "      <td>1.000000</td>\n",
       "      <td>0.941758</td>\n",
       "      <td>0.942857</td>\n",
       "    </tr>\n",
       "    <tr>\n",
       "      <th>1</th>\n",
       "      <td>2</td>\n",
       "      <td>0.956522</td>\n",
       "      <td>0.941758</td>\n",
       "      <td>0.942857</td>\n",
       "    </tr>\n",
       "    <tr>\n",
       "      <th>2</th>\n",
       "      <td>3</td>\n",
       "      <td>0.971014</td>\n",
       "      <td>0.970330</td>\n",
       "      <td>0.971429</td>\n",
       "    </tr>\n",
       "    <tr>\n",
       "      <th>3</th>\n",
       "      <td>4</td>\n",
       "      <td>0.971014</td>\n",
       "      <td>0.970330</td>\n",
       "      <td>0.971429</td>\n",
       "    </tr>\n",
       "    <tr>\n",
       "      <th>4</th>\n",
       "      <td>5</td>\n",
       "      <td>0.971014</td>\n",
       "      <td>0.970330</td>\n",
       "      <td>0.971429</td>\n",
       "    </tr>\n",
       "    <tr>\n",
       "      <th>5</th>\n",
       "      <td>6</td>\n",
       "      <td>0.971014</td>\n",
       "      <td>0.956044</td>\n",
       "      <td>0.957143</td>\n",
       "    </tr>\n",
       "    <tr>\n",
       "      <th>6</th>\n",
       "      <td>7</td>\n",
       "      <td>0.971014</td>\n",
       "      <td>0.956044</td>\n",
       "      <td>0.957143</td>\n",
       "    </tr>\n",
       "    <tr>\n",
       "      <th>7</th>\n",
       "      <td>8</td>\n",
       "      <td>0.956522</td>\n",
       "      <td>0.956044</td>\n",
       "      <td>0.957143</td>\n",
       "    </tr>\n",
       "    <tr>\n",
       "      <th>8</th>\n",
       "      <td>9</td>\n",
       "      <td>0.956522</td>\n",
       "      <td>0.956044</td>\n",
       "      <td>0.957143</td>\n",
       "    </tr>\n",
       "    <tr>\n",
       "      <th>9</th>\n",
       "      <td>10</td>\n",
       "      <td>0.942029</td>\n",
       "      <td>0.956044</td>\n",
       "      <td>0.957143</td>\n",
       "    </tr>\n",
       "    <tr>\n",
       "      <th>10</th>\n",
       "      <td>20</td>\n",
       "      <td>0.956522</td>\n",
       "      <td>0.956044</td>\n",
       "      <td>0.957143</td>\n",
       "    </tr>\n",
       "    <tr>\n",
       "      <th>11</th>\n",
       "      <td>50</td>\n",
       "      <td>0.927536</td>\n",
       "      <td>0.840659</td>\n",
       "      <td>0.900000</td>\n",
       "    </tr>\n",
       "  </tbody>\n",
       "</table>\n",
       "</div>"
      ],
      "text/plain": [
       "     K  Train_Score  CV_Score (n=5)  CV_Score (n=10)\n",
       "0    1     1.000000        0.941758         0.942857\n",
       "1    2     0.956522        0.941758         0.942857\n",
       "2    3     0.971014        0.970330         0.971429\n",
       "3    4     0.971014        0.970330         0.971429\n",
       "4    5     0.971014        0.970330         0.971429\n",
       "5    6     0.971014        0.956044         0.957143\n",
       "6    7     0.971014        0.956044         0.957143\n",
       "7    8     0.956522        0.956044         0.957143\n",
       "8    9     0.956522        0.956044         0.957143\n",
       "9   10     0.942029        0.956044         0.957143\n",
       "10  20     0.956522        0.956044         0.957143\n",
       "11  50     0.927536        0.840659         0.900000"
      ]
     },
     "execution_count": 144,
     "metadata": {},
     "output_type": "execute_result"
    }
   ],
   "source": [
    "score"
   ]
  },
  {
   "cell_type": "markdown",
   "metadata": {},
   "source": [
    "# Visualising the logistic regression decision boundary for all data above"
   ]
  },
  {
   "cell_type": "markdown",
   "metadata": {},
   "source": [
    "### Comparing Logistic Regression Model & KNN Algorithm for U shaped Dataset"
   ]
  },
  {
   "cell_type": "code",
   "execution_count": 52,
   "metadata": {},
   "outputs": [],
   "source": [
    "logistic(data1,1),knn_comparison(data1,5)"
   ]
  },
  {
   "cell_type": "markdown",
   "metadata": {},
   "source": [
    "### Comparing Logistic Regression Model & KNN Algorithm for Concentric Circles Dataset"
   ]
  },
  {
   "cell_type": "code",
   "execution_count": 53,
   "metadata": {},
   "outputs": [],
   "source": [
    "logistic(data2,1),knn_comparison(data2,3)"
   ]
  },
  {
   "cell_type": "markdown",
   "metadata": {},
   "source": [
    "### Comparing Logistic Regression Model & KNN Algorithm for XOR Dataset"
   ]
  },
  {
   "cell_type": "code",
   "execution_count": 54,
   "metadata": {},
   "outputs": [],
   "source": [
    "logistic(data3,1),knn_comparison(data3,3)"
   ]
  },
  {
   "cell_type": "markdown",
   "metadata": {},
   "source": [
    "### Comparing Logistic Regression Model & KNN Algorithm for Linearly Separable Dataset"
   ]
  },
  {
   "cell_type": "code",
   "execution_count": 55,
   "metadata": {},
   "outputs": [],
   "source": [
    "logistic(data4,1),knn_comparison(data4,4)"
   ]
  },
  {
   "cell_type": "markdown",
   "metadata": {},
   "source": [
    "## Conclusion"
   ]
  },
  {
   "cell_type": "markdown",
   "metadata": {},
   "source": [
    "It is Clearly evident that KNN Algorithm is more accurate than Logistic Regression, both visually and numerically"
   ]
  }
 ],
 "metadata": {
  "kernelspec": {
   "display_name": "Python 3 (ipykernel)",
   "language": "python",
   "name": "python3"
  },
  "language_info": {
   "codemirror_mode": {
    "name": "ipython",
    "version": 3
   },
   "file_extension": ".py",
   "mimetype": "text/x-python",
   "name": "python",
   "nbconvert_exporter": "python",
   "pygments_lexer": "ipython3",
   "version": "3.10.9"
  }
 },
 "nbformat": 4,
 "nbformat_minor": 4
}
